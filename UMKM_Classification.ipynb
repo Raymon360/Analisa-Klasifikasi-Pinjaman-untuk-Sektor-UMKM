{
 "cells": [
  {
   "cell_type": "markdown",
   "metadata": {
    "id": "2nP6hvt6XRAL"
   },
   "source": [
    "# Project Analisa Klasifikasi Pinjaman untuk Sektor UMKM\n",
    "<b>Describe</b><br>\n",
    "Perusahaan Alembert merupakan perusahaan yang bergerak di bidang layanan pinjaman usaha bagi sektor UMKM. Karena adanya pandemik ini, perusahaan berusaha memberikan pelayanan berupa keringanan pinjaman bagi pelanggan yang disebut sebagai rekomendasi tindak lanjut. Pemberian rekomendasi tindak lanjut pada pelanggan ini didasari pada kriteria tertentu, dan perlu ditentukan faktor-faktor apa saja yang berpengaruh sehingga pelanggan mendapatkan treatment tertentu yang masuk dalam rekomendasi tindak lanjut program dari perusahaan.\n",
    "\n",
    "<b>Tujuan Project:</b> Klasifikasi nasabah yang akan dimasukkan pada rekomendasi tindak lanjut. Pada kelas target rekomendasi tindak lanjut ini sendiri terdiri dari beberapa kelas seperti restrukturisasi dan angsuran biasa.\n",
    "\n",
    "<b>Model:</b> Regresi multinomial.\n",
    "\n",
    "<b>Referensi model (Ref):</b> Kelas pada rekomendasi tindak lanjut yang memiliki banyak pelanggan."
   ]
  },
  {
   "cell_type": "markdown",
   "metadata": {
    "id": "38wctP5rdNpT"
   },
   "source": [
    "### Membaca data eksternal"
   ]
  },
  {
   "cell_type": "code",
   "execution_count": 2,
   "metadata": {
    "colab": {
     "base_uri": "https://localhost:8080/",
     "height": 425
    },
    "id": "pOduZq8xciGs",
    "outputId": "23f7d9d3-a7fe-4a60-b849-3fae74b0ba74",
    "vscode": {
     "languageId": "r"
    }
   },
   "outputs": [
    {
     "data": {
      "text/html": [
       "<table class=\"dataframe\">\n",
       "<caption>A data.frame: 6 × 17</caption>\n",
       "<thead>\n",
       "\t<tr><th></th><th scope=col>X</th><th scope=col>NAMA_NASABAH</th><th scope=col>NOMOR_KONTRAK</th><th scope=col>DOMISILI</th><th scope=col>KARAKTER</th><th scope=col>PROFESI</th><th scope=col>KONDISI_USAHA</th><th scope=col>KONDISI_JAMINAN</th><th scope=col>STATUS</th><th scope=col>PRODUK</th><th scope=col>PYD</th><th scope=col>TENOR</th><th scope=col>OSL</th><th scope=col>KEWAJIBAN</th><th scope=col>KOLEKTIBILITAS</th><th scope=col>COUNT_SURVEY</th><th scope=col>REKOMENDASI_TINDAK_LANJUT</th></tr>\n",
       "\t<tr><th></th><th scope=col>&lt;int&gt;</th><th scope=col>&lt;chr&gt;</th><th scope=col>&lt;int&gt;</th><th scope=col>&lt;chr&gt;</th><th scope=col>&lt;chr&gt;</th><th scope=col>&lt;chr&gt;</th><th scope=col>&lt;int&gt;</th><th scope=col>&lt;chr&gt;</th><th scope=col>&lt;int&gt;</th><th scope=col>&lt;int&gt;</th><th scope=col>&lt;int&gt;</th><th scope=col>&lt;int&gt;</th><th scope=col>&lt;int&gt;</th><th scope=col>&lt;int&gt;</th><th scope=col>&lt;chr&gt;</th><th scope=col>&lt;int&gt;</th><th scope=col>&lt;chr&gt;</th></tr>\n",
       "</thead>\n",
       "<tbody>\n",
       "\t<tr><th scope=row>1</th><td>0</td><td>YOLI SEPINA NAINGGOLAN</td><td>0</td><td>MASIH TETAP    </td><td>KOOPERATIF      </td><td>IBU RUMAH TANGGA    </td><td>2</td><td>Baik </td><td>2</td><td>3</td><td> 30000000</td><td>24</td><td>28750000</td><td>4896841</td><td>DALAM PENGAWASAN KHUSUS</td><td>1</td><td>Angsuran Biasa </td></tr>\n",
       "\t<tr><th scope=row>2</th><td>1</td><td>ERWIN NASUTION        </td><td>1</td><td>MASIH TETAP    </td><td>TIDAK KOOPERATIF</td><td>NELAYAN             </td><td>3</td><td>Rusak</td><td>8</td><td>3</td><td> 10000000</td><td>12</td><td> 2040693</td><td>      0</td><td>MACET                  </td><td>1</td><td>Penarikan      </td></tr>\n",
       "\t<tr><th scope=row>3</th><td>2</td><td>HUSIN                 </td><td>2</td><td>MASIH TETAP    </td><td>TIDAK KOOPERATIF</td><td>LAINNYA             </td><td>3</td><td>Baik </td><td>8</td><td>3</td><td> 60000000</td><td>24</td><td>       0</td><td>      0</td><td>MACET                  </td><td>1</td><td>Penarikan      </td></tr>\n",
       "\t<tr><th scope=row>4</th><td>3</td><td>HARITSYAH             </td><td>3</td><td>PINDAH PERMANEN</td><td>KOOPERATIF      </td><td>PNS                 </td><td>1</td><td>Rusak</td><td>7</td><td>3</td><td> 90000000</td><td>18</td><td>       0</td><td>      0</td><td>MACET                  </td><td>1</td><td>Angsuran Biasa </td></tr>\n",
       "\t<tr><th scope=row>5</th><td>4</td><td>HARIRI PANGGABEAN     </td><td>4</td><td>MASIH TETAP    </td><td>TIDAK KOOPERATIF</td><td>WIRAUSAHA / PEDAGANG</td><td>1</td><td>Baik </td><td>8</td><td>3</td><td>150000000</td><td>18</td><td>19844807</td><td>      0</td><td>MACET                  </td><td>1</td><td>Penarikan      </td></tr>\n",
       "\t<tr><th scope=row>6</th><td>5</td><td>JHON PREDDY HUTABARAT </td><td>5</td><td>MASIH TETAP    </td><td>KOOPERATIF      </td><td>WIRAUSAHA / PEDAGANG</td><td>1</td><td>Baik </td><td>7</td><td>3</td><td> 40000000</td><td>36</td><td>27298726</td><td>2208516</td><td>DALAM PENGAWASAN KHUSUS</td><td>1</td><td>Restrukturisasi</td></tr>\n",
       "</tbody>\n",
       "</table>\n"
      ],
      "text/latex": [
       "A data.frame: 6 × 17\n",
       "\\begin{tabular}{r|lllllllllllllllll}\n",
       "  & X & NAMA\\_NASABAH & NOMOR\\_KONTRAK & DOMISILI & KARAKTER & PROFESI & KONDISI\\_USAHA & KONDISI\\_JAMINAN & STATUS & PRODUK & PYD & TENOR & OSL & KEWAJIBAN & KOLEKTIBILITAS & COUNT\\_SURVEY & REKOMENDASI\\_TINDAK\\_LANJUT\\\\\n",
       "  & <int> & <chr> & <int> & <chr> & <chr> & <chr> & <int> & <chr> & <int> & <int> & <int> & <int> & <int> & <int> & <chr> & <int> & <chr>\\\\\n",
       "\\hline\n",
       "\t1 & 0 & YOLI SEPINA NAINGGOLAN & 0 & MASIH TETAP     & KOOPERATIF       & IBU RUMAH TANGGA     & 2 & Baik  & 2 & 3 &  30000000 & 24 & 28750000 & 4896841 & DALAM PENGAWASAN KHUSUS & 1 & Angsuran Biasa \\\\\n",
       "\t2 & 1 & ERWIN NASUTION         & 1 & MASIH TETAP     & TIDAK KOOPERATIF & NELAYAN              & 3 & Rusak & 8 & 3 &  10000000 & 12 &  2040693 &       0 & MACET                   & 1 & Penarikan      \\\\\n",
       "\t3 & 2 & HUSIN                  & 2 & MASIH TETAP     & TIDAK KOOPERATIF & LAINNYA              & 3 & Baik  & 8 & 3 &  60000000 & 24 &        0 &       0 & MACET                   & 1 & Penarikan      \\\\\n",
       "\t4 & 3 & HARITSYAH              & 3 & PINDAH PERMANEN & KOOPERATIF       & PNS                  & 1 & Rusak & 7 & 3 &  90000000 & 18 &        0 &       0 & MACET                   & 1 & Angsuran Biasa \\\\\n",
       "\t5 & 4 & HARIRI PANGGABEAN      & 4 & MASIH TETAP     & TIDAK KOOPERATIF & WIRAUSAHA / PEDAGANG & 1 & Baik  & 8 & 3 & 150000000 & 18 & 19844807 &       0 & MACET                   & 1 & Penarikan      \\\\\n",
       "\t6 & 5 & JHON PREDDY HUTABARAT  & 5 & MASIH TETAP     & KOOPERATIF       & WIRAUSAHA / PEDAGANG & 1 & Baik  & 7 & 3 &  40000000 & 36 & 27298726 & 2208516 & DALAM PENGAWASAN KHUSUS & 1 & Restrukturisasi\\\\\n",
       "\\end{tabular}\n"
      ],
      "text/markdown": [
       "\n",
       "A data.frame: 6 × 17\n",
       "\n",
       "| <!--/--> | X &lt;int&gt; | NAMA_NASABAH &lt;chr&gt; | NOMOR_KONTRAK &lt;int&gt; | DOMISILI &lt;chr&gt; | KARAKTER &lt;chr&gt; | PROFESI &lt;chr&gt; | KONDISI_USAHA &lt;int&gt; | KONDISI_JAMINAN &lt;chr&gt; | STATUS &lt;int&gt; | PRODUK &lt;int&gt; | PYD &lt;int&gt; | TENOR &lt;int&gt; | OSL &lt;int&gt; | KEWAJIBAN &lt;int&gt; | KOLEKTIBILITAS &lt;chr&gt; | COUNT_SURVEY &lt;int&gt; | REKOMENDASI_TINDAK_LANJUT &lt;chr&gt; |\n",
       "|---|---|---|---|---|---|---|---|---|---|---|---|---|---|---|---|---|---|\n",
       "| 1 | 0 | YOLI SEPINA NAINGGOLAN | 0 | MASIH TETAP     | KOOPERATIF       | IBU RUMAH TANGGA     | 2 | Baik  | 2 | 3 |  30000000 | 24 | 28750000 | 4896841 | DALAM PENGAWASAN KHUSUS | 1 | Angsuran Biasa  |\n",
       "| 2 | 1 | ERWIN NASUTION         | 1 | MASIH TETAP     | TIDAK KOOPERATIF | NELAYAN              | 3 | Rusak | 8 | 3 |  10000000 | 12 |  2040693 |       0 | MACET                   | 1 | Penarikan       |\n",
       "| 3 | 2 | HUSIN                  | 2 | MASIH TETAP     | TIDAK KOOPERATIF | LAINNYA              | 3 | Baik  | 8 | 3 |  60000000 | 24 |        0 |       0 | MACET                   | 1 | Penarikan       |\n",
       "| 4 | 3 | HARITSYAH              | 3 | PINDAH PERMANEN | KOOPERATIF       | PNS                  | 1 | Rusak | 7 | 3 |  90000000 | 18 |        0 |       0 | MACET                   | 1 | Angsuran Biasa  |\n",
       "| 5 | 4 | HARIRI PANGGABEAN      | 4 | MASIH TETAP     | TIDAK KOOPERATIF | WIRAUSAHA / PEDAGANG | 1 | Baik  | 8 | 3 | 150000000 | 18 | 19844807 |       0 | MACET                   | 1 | Penarikan       |\n",
       "| 6 | 5 | JHON PREDDY HUTABARAT  | 5 | MASIH TETAP     | KOOPERATIF       | WIRAUSAHA / PEDAGANG | 1 | Baik  | 7 | 3 |  40000000 | 36 | 27298726 | 2208516 | DALAM PENGAWASAN KHUSUS | 1 | Restrukturisasi |\n",
       "\n"
      ],
      "text/plain": [
       "  X NAMA_NASABAH           NOMOR_KONTRAK DOMISILI        KARAKTER        \n",
       "1 0 YOLI SEPINA NAINGGOLAN 0             MASIH TETAP     KOOPERATIF      \n",
       "2 1 ERWIN NASUTION         1             MASIH TETAP     TIDAK KOOPERATIF\n",
       "3 2 HUSIN                  2             MASIH TETAP     TIDAK KOOPERATIF\n",
       "4 3 HARITSYAH              3             PINDAH PERMANEN KOOPERATIF      \n",
       "5 4 HARIRI PANGGABEAN      4             MASIH TETAP     TIDAK KOOPERATIF\n",
       "6 5 JHON PREDDY HUTABARAT  5             MASIH TETAP     KOOPERATIF      \n",
       "  PROFESI              KONDISI_USAHA KONDISI_JAMINAN STATUS PRODUK PYD      \n",
       "1 IBU RUMAH TANGGA     2             Baik            2      3       30000000\n",
       "2 NELAYAN              3             Rusak           8      3       10000000\n",
       "3 LAINNYA              3             Baik            8      3       60000000\n",
       "4 PNS                  1             Rusak           7      3       90000000\n",
       "5 WIRAUSAHA / PEDAGANG 1             Baik            8      3      150000000\n",
       "6 WIRAUSAHA / PEDAGANG 1             Baik            7      3       40000000\n",
       "  TENOR OSL      KEWAJIBAN KOLEKTIBILITAS          COUNT_SURVEY\n",
       "1 24    28750000 4896841   DALAM PENGAWASAN KHUSUS 1           \n",
       "2 12     2040693       0   MACET                   1           \n",
       "3 24           0       0   MACET                   1           \n",
       "4 18           0       0   MACET                   1           \n",
       "5 18    19844807       0   MACET                   1           \n",
       "6 36    27298726 2208516   DALAM PENGAWASAN KHUSUS 1           \n",
       "  REKOMENDASI_TINDAK_LANJUT\n",
       "1 Angsuran Biasa           \n",
       "2 Penarikan                \n",
       "3 Penarikan                \n",
       "4 Angsuran Biasa           \n",
       "5 Penarikan                \n",
       "6 Restrukturisasi          "
      ]
     },
     "metadata": {},
     "output_type": "display_data"
    }
   ],
   "source": [
    "# Get Dataset\n",
    "data <- read.csv(\"https://storage.googleapis.com/dqlab-dataset/project.csv\")\n",
    "\n",
    "# Display the top 6 rows\n",
    "head(data, 6)"
   ]
  },
  {
   "cell_type": "code",
   "execution_count": 3,
   "metadata": {
    "colab": {
     "base_uri": "https://localhost:8080/"
    },
    "id": "rTTDqJURdrcs",
    "outputId": "1a9dd76d-b5b5-4ea6-fc4c-c733af39be95",
    "vscode": {
     "languageId": "r"
    }
   },
   "outputs": [
    {
     "name": "stdout",
     "output_type": "stream",
     "text": [
      "'data.frame':\t1000 obs. of  17 variables:\n",
      " $ X                        : int  0 1 2 3 4 5 6 7 8 9 ...\n",
      " $ NAMA_NASABAH             : chr  \"YOLI SEPINA NAINGGOLAN\" \"ERWIN NASUTION\" \"HUSIN\" \"HARITSYAH\" ...\n",
      " $ NOMOR_KONTRAK            : int  0 1 2 3 4 5 6 7 8 9 ...\n",
      " $ DOMISILI                 : chr  \"MASIH TETAP\" \"MASIH TETAP\" \"MASIH TETAP\" \"PINDAH PERMANEN\" ...\n",
      " $ KARAKTER                 : chr  \"KOOPERATIF\" \"TIDAK KOOPERATIF\" \"TIDAK KOOPERATIF\" \"KOOPERATIF\" ...\n",
      " $ PROFESI                  : chr  \"IBU RUMAH TANGGA\" \"NELAYAN\" \"LAINNYA\" \"PNS\" ...\n",
      " $ KONDISI_USAHA            : int  2 3 3 1 1 1 3 2 2 3 ...\n",
      " $ KONDISI_JAMINAN          : chr  \"Baik\" \"Rusak\" \"Baik\" \"Rusak\" ...\n",
      " $ STATUS                   : int  2 8 8 7 8 7 7 7 7 3 ...\n",
      " $ PRODUK                   : int  3 3 3 3 3 3 3 3 3 3 ...\n",
      " $ PYD                      : int  30000000 10000000 60000000 90000000 150000000 40000000 60000000 7500000 45000000 50000000 ...\n",
      " $ TENOR                    : int  24 12 24 18 18 36 36 4 24 36 ...\n",
      " $ OSL                      : int  28750000 2040693 0 0 19844807 27298726 19999200 7500000 45000000 6944100 ...\n",
      " $ KEWAJIBAN                : int  4896841 0 0 0 0 2208516 6946592 0 0 7730984 ...\n",
      " $ KOLEKTIBILITAS           : chr  \"DALAM PENGAWASAN KHUSUS\" \"MACET\" \"MACET\" \"MACET\" ...\n",
      " $ COUNT_SURVEY             : int  1 1 1 1 1 1 2 2 1 1 ...\n",
      " $ REKOMENDASI_TINDAK_LANJUT: chr  \"Angsuran Biasa\" \"Penarikan\" \"Penarikan\" \"Angsuran Biasa\" ...\n"
     ]
    }
   ],
   "source": [
    "# displays the data type of each column\n",
    "str(data)"
   ]
  },
  {
   "cell_type": "markdown",
   "metadata": {
    "id": "xINNPMd3XRAN"
   },
   "source": [
    "##### Statistik deskriptif data"
   ]
  },
  {
   "cell_type": "code",
   "execution_count": 4,
   "metadata": {
    "colab": {
     "base_uri": "https://localhost:8080/",
     "height": 624
    },
    "id": "Na5QYKTfeX8T",
    "outputId": "265dc1f3-afdf-439a-a001-41f0fd2e3555",
    "vscode": {
     "languageId": "r"
    }
   },
   "outputs": [
    {
     "data": {
      "text/plain": [
       "       X         NAMA_NASABAH       NOMOR_KONTRAK     DOMISILI        \n",
       " Min.   :  0.0   Length:1000        Min.   :  0.0   Length:1000       \n",
       " 1st Qu.:249.8   Class :character   1st Qu.:249.8   Class :character  \n",
       " Median :499.5   Mode  :character   Median :499.5   Mode  :character  \n",
       " Mean   :499.5                      Mean   :499.5                     \n",
       " 3rd Qu.:749.2                      3rd Qu.:749.2                     \n",
       " Max.   :999.0                      Max.   :999.0                     \n",
       "   KARAKTER           PROFESI          KONDISI_USAHA   KONDISI_JAMINAN   \n",
       " Length:1000        Length:1000        Min.   :1.000   Length:1000       \n",
       " Class :character   Class :character   1st Qu.:2.000   Class :character  \n",
       " Mode  :character   Mode  :character   Median :2.000   Mode  :character  \n",
       "                                       Mean   :2.273                     \n",
       "                                       3rd Qu.:3.000                     \n",
       "                                       Max.   :3.000                     \n",
       "     STATUS          PRODUK           PYD                TENOR      \n",
       " Min.   :2.000   Min.   : 3.00   Min.   :   500000   Min.   : 3.00  \n",
       " 1st Qu.:3.000   1st Qu.: 3.00   1st Qu.:  8000000   1st Qu.:12.00  \n",
       " Median :7.000   Median : 3.00   Median : 15000000   Median :18.00  \n",
       " Mean   :5.379   Mean   :12.45   Mean   : 38537508   Mean   :20.75  \n",
       " 3rd Qu.:7.000   3rd Qu.: 7.00   3rd Qu.: 50000000   3rd Qu.:24.00  \n",
       " Max.   :8.000   Max.   :77.00   Max.   :500000000   Max.   :48.00  \n",
       "      OSL              KEWAJIBAN         KOLEKTIBILITAS      COUNT_SURVEY  \n",
       " Min.   :        0   Min.   :        0   Length:1000        Min.   :1.000  \n",
       " 1st Qu.:  3999950   1st Qu.:   687487   Class :character   1st Qu.:1.000  \n",
       " Median :  8687350   Median :  2008974   Mode  :character   Median :1.000  \n",
       " Mean   : 26562373   Mean   :  5663981                      Mean   :1.036  \n",
       " 3rd Qu.: 32082900   3rd Qu.:  4823198                      3rd Qu.:1.000  \n",
       " Max.   :440932336   Max.   :400900000                      Max.   :2.000  \n",
       " REKOMENDASI_TINDAK_LANJUT\n",
       " Length:1000              \n",
       " Class :character         \n",
       " Mode  :character         \n",
       "                          \n",
       "                          \n",
       "                          "
      ]
     },
     "metadata": {},
     "output_type": "display_data"
    }
   ],
   "source": [
    "# summary\n",
    "summary(data)"
   ]
  },
  {
   "cell_type": "markdown",
   "metadata": {
    "id": "Nq7aeBpZXRAN"
   },
   "source": [
    "### Menghapus kolom\n",
    "Pada data, sebenarnya tidak memerlukan NAMA_NASABAH untuk diberikan rekomendasi. Atau dengan kata lain penanda pelanggan untuk diberikan rekomendasi cukup dengan melihat no_kontrak pelanggan itu saja."
   ]
  },
  {
   "cell_type": "code",
   "execution_count": 5,
   "metadata": {
    "colab": {
     "base_uri": "https://localhost:8080/",
     "height": 34
    },
    "id": "amIK3z-femZO",
    "outputId": "4212b400-282a-4e98-8e3b-b3121e83d10a",
    "vscode": {
     "languageId": "r"
    }
   },
   "outputs": [
    {
     "data": {
      "text/html": [
       "<style>\n",
       ".list-inline {list-style: none; margin:0; padding: 0}\n",
       ".list-inline>li {display: inline-block}\n",
       ".list-inline>li:not(:last-child)::after {content: \"\\00b7\"; padding: 0 .5ex}\n",
       "</style>\n",
       "<ol class=list-inline><li>'NOMOR_KONTRAK'</li><li>'DOMISILI'</li><li>'KARAKTER'</li><li>'PROFESI'</li><li>'KONDISI_USAHA'</li><li>'KONDISI_JAMINAN'</li><li>'STATUS'</li><li>'PRODUK'</li><li>'PYD'</li><li>'TENOR'</li><li>'OSL'</li><li>'KEWAJIBAN'</li><li>'KOLEKTIBILITAS'</li><li>'COUNT_SURVEY'</li><li>'REKOMENDASI_TINDAK_LANJUT'</li></ol>\n"
      ],
      "text/latex": [
       "\\begin{enumerate*}\n",
       "\\item 'NOMOR\\_KONTRAK'\n",
       "\\item 'DOMISILI'\n",
       "\\item 'KARAKTER'\n",
       "\\item 'PROFESI'\n",
       "\\item 'KONDISI\\_USAHA'\n",
       "\\item 'KONDISI\\_JAMINAN'\n",
       "\\item 'STATUS'\n",
       "\\item 'PRODUK'\n",
       "\\item 'PYD'\n",
       "\\item 'TENOR'\n",
       "\\item 'OSL'\n",
       "\\item 'KEWAJIBAN'\n",
       "\\item 'KOLEKTIBILITAS'\n",
       "\\item 'COUNT\\_SURVEY'\n",
       "\\item 'REKOMENDASI\\_TINDAK\\_LANJUT'\n",
       "\\end{enumerate*}\n"
      ],
      "text/markdown": [
       "1. 'NOMOR_KONTRAK'\n",
       "2. 'DOMISILI'\n",
       "3. 'KARAKTER'\n",
       "4. 'PROFESI'\n",
       "5. 'KONDISI_USAHA'\n",
       "6. 'KONDISI_JAMINAN'\n",
       "7. 'STATUS'\n",
       "8. 'PRODUK'\n",
       "9. 'PYD'\n",
       "10. 'TENOR'\n",
       "11. 'OSL'\n",
       "12. 'KEWAJIBAN'\n",
       "13. 'KOLEKTIBILITAS'\n",
       "14. 'COUNT_SURVEY'\n",
       "15. 'REKOMENDASI_TINDAK_LANJUT'\n",
       "\n",
       "\n"
      ],
      "text/plain": [
       " [1] \"NOMOR_KONTRAK\"             \"DOMISILI\"                 \n",
       " [3] \"KARAKTER\"                  \"PROFESI\"                  \n",
       " [5] \"KONDISI_USAHA\"             \"KONDISI_JAMINAN\"          \n",
       " [7] \"STATUS\"                    \"PRODUK\"                   \n",
       " [9] \"PYD\"                       \"TENOR\"                    \n",
       "[11] \"OSL\"                       \"KEWAJIBAN\"                \n",
       "[13] \"KOLEKTIBILITAS\"            \"COUNT_SURVEY\"             \n",
       "[15] \"REKOMENDASI_TINDAK_LANJUT\""
      ]
     },
     "metadata": {},
     "output_type": "display_data"
    }
   ],
   "source": [
    "# Deleting columns\n",
    "data_reduce = data[-c(1,2)]\n",
    "colnames(data_reduce)"
   ]
  },
  {
   "cell_type": "markdown",
   "metadata": {
    "id": "xgzTmE1tXRAO"
   },
   "source": [
    "### Konversi data\n",
    "Seperti yang diketahui ketika data ditarik dari suatu sumber terkadang ada kondisi tipe data tidak dengan tepat direpresentasikan. Misalkan semua record/baris pada suatu kolom berisi seharusnya data numerik akan tetapi disajikan didalam suatu karakter angka.\n",
    "\n",
    "R sendiri memiliki fungsi sapply yang dapat digunakan untuk mengkoversi tipe data. Dalam hal ini fungsi sapply menerima input/argumen fungsi berupa list, vector, atau data frame dan mengembalikan/menghasilkan output berupa vector atau matrix.\n",
    "\n",
    "Cobalah untuk meninjau kembali kolom PRODUK, PYD, TENOR, dan OSL apakah perlu dikonversikan menjadi bertipe numerik atau tidak. Jika tidak perlu di konversi, tidak perlu diubah."
   ]
  },
  {
   "cell_type": "code",
   "execution_count": 6,
   "metadata": {
    "colab": {
     "base_uri": "https://localhost:8080/",
     "height": 287
    },
    "id": "0_kYvYdAeSos",
    "outputId": "c1db728a-eb97-4d89-b71f-4f86f3980149"
   },
   "outputs": [
    {
     "data": {
      "text/html": [
       "<table class=\"dataframe\">\n",
       "<caption>A data.frame: 6 × 4</caption>\n",
       "<thead>\n",
       "\t<tr><th></th><th scope=col>PRODUK</th><th scope=col>PYD</th><th scope=col>TENOR</th><th scope=col>OSL</th></tr>\n",
       "\t<tr><th></th><th scope=col>&lt;int&gt;</th><th scope=col>&lt;int&gt;</th><th scope=col>&lt;int&gt;</th><th scope=col>&lt;int&gt;</th></tr>\n",
       "</thead>\n",
       "<tbody>\n",
       "\t<tr><th scope=row>1</th><td>3</td><td> 30000000</td><td>24</td><td>28750000</td></tr>\n",
       "\t<tr><th scope=row>2</th><td>3</td><td> 10000000</td><td>12</td><td> 2040693</td></tr>\n",
       "\t<tr><th scope=row>3</th><td>3</td><td> 60000000</td><td>24</td><td>       0</td></tr>\n",
       "\t<tr><th scope=row>4</th><td>3</td><td> 90000000</td><td>18</td><td>       0</td></tr>\n",
       "\t<tr><th scope=row>5</th><td>3</td><td>150000000</td><td>18</td><td>19844807</td></tr>\n",
       "\t<tr><th scope=row>6</th><td>3</td><td> 40000000</td><td>36</td><td>27298726</td></tr>\n",
       "</tbody>\n",
       "</table>\n"
      ],
      "text/latex": [
       "A data.frame: 6 × 4\n",
       "\\begin{tabular}{r|llll}\n",
       "  & PRODUK & PYD & TENOR & OSL\\\\\n",
       "  & <int> & <int> & <int> & <int>\\\\\n",
       "\\hline\n",
       "\t1 & 3 &  30000000 & 24 & 28750000\\\\\n",
       "\t2 & 3 &  10000000 & 12 &  2040693\\\\\n",
       "\t3 & 3 &  60000000 & 24 &        0\\\\\n",
       "\t4 & 3 &  90000000 & 18 &        0\\\\\n",
       "\t5 & 3 & 150000000 & 18 & 19844807\\\\\n",
       "\t6 & 3 &  40000000 & 36 & 27298726\\\\\n",
       "\\end{tabular}\n"
      ],
      "text/markdown": [
       "\n",
       "A data.frame: 6 × 4\n",
       "\n",
       "| <!--/--> | PRODUK &lt;int&gt; | PYD &lt;int&gt; | TENOR &lt;int&gt; | OSL &lt;int&gt; |\n",
       "|---|---|---|---|---|\n",
       "| 1 | 3 |  30000000 | 24 | 28750000 |\n",
       "| 2 | 3 |  10000000 | 12 |  2040693 |\n",
       "| 3 | 3 |  60000000 | 24 |        0 |\n",
       "| 4 | 3 |  90000000 | 18 |        0 |\n",
       "| 5 | 3 | 150000000 | 18 | 19844807 |\n",
       "| 6 | 3 |  40000000 | 36 | 27298726 |\n",
       "\n"
      ],
      "text/plain": [
       "  PRODUK PYD       TENOR OSL     \n",
       "1 3       30000000 24    28750000\n",
       "2 3       10000000 12     2040693\n",
       "3 3       60000000 24           0\n",
       "4 3       90000000 18           0\n",
       "5 3      150000000 18    19844807\n",
       "6 3       40000000 36    27298726"
      ]
     },
     "metadata": {},
     "output_type": "display_data"
    }
   ],
   "source": [
    "cek.1 <- data_reduce[, 8:11]\n",
    "head(cek.1, 6)"
   ]
  },
  {
   "cell_type": "markdown",
   "metadata": {
    "id": "vp9M2VczXRAO"
   },
   "source": [
    "### Pemilihan data kategori\n",
    "Tentu saja kamu menyadari bahwa data yang dimiliki ada yang bersifat kategorik. Data kategori dapat dipilih melalui kolom-kolom “KONDISI_USAHA”, “KONDISI_JAMINAN”, “REKOMENDASI_TINDAK_LANJUT”.\n",
    "\n",
    "Kemudian ubah kolom “REKOMENDASI_TINDAK_LANJUT” sebagai faktor (menggunakkan as.factor).\n"
   ]
  },
  {
   "cell_type": "code",
   "execution_count": 7,
   "metadata": {
    "id": "UMAOAddvfWt4",
    "vscode": {
     "languageId": "r"
    }
   },
   "outputs": [],
   "source": [
    "# Select spesific columns from the DataFrame\n",
    "data_kategorik = data_reduce[, c(\"KONDISI_USAHA\", \"KONDISI_JAMINAN\", \"REKOMENDASI_TINDAK_LANJUT\")]\n",
    "\n",
    "# Change the type data of column \"REKOMENDASI_TINDAK_LANJUT\"\n",
    "data_reduce$REKOMENDASI_TINDAK_LANJUT = as.factor(data_reduce$REKOMENDASI_TINDAK_LANJUT)"
   ]
  },
  {
   "cell_type": "code",
   "execution_count": 8,
   "metadata": {
    "colab": {
     "base_uri": "https://localhost:8080/"
    },
    "id": "VhEcmTPxh08h",
    "outputId": "74193686-9378-4778-c683-4c3058481612"
   },
   "outputs": [
    {
     "name": "stdout",
     "output_type": "stream",
     "text": [
      " Factor w/ 4 levels \"Angsuran Biasa\",..: 1 3 3 1 3 4 4 4 4 1 ...\n"
     ]
    }
   ],
   "source": [
    "str(data_reduce$REKOMENDASI_TINDAK_LANJUT)"
   ]
  },
  {
   "cell_type": "markdown",
   "metadata": {
    "id": "WKwLCKd2gUrA"
   },
   "source": [
    "\n",
    "Gunakan uji chi-square dapat digunakan untuk melihat hubungan antar variabel kategorik berikut:"
   ]
  },
  {
   "cell_type": "code",
   "execution_count": 9,
   "metadata": {
    "colab": {
     "base_uri": "https://localhost:8080/",
     "height": 138
    },
    "id": "IzKQo-q8gTZM",
    "outputId": "ca638b44-9509-4f25-e8ca-92b796ac4936",
    "vscode": {
     "languageId": "r"
    }
   },
   "outputs": [
    {
     "name": "stderr",
     "output_type": "stream",
     "text": [
      "Warning message in chisq.test(data_kategorik$KONDISI_USAHA, data_kategorik$REKOMENDASI_TINDAK_LANJUT):\n",
      "“Chi-squared approximation may be incorrect”\n"
     ]
    },
    {
     "data": {
      "text/plain": [
       "\n",
       "\tPearson's Chi-squared test\n",
       "\n",
       "data:  data_kategorik$KONDISI_USAHA and data_kategorik$REKOMENDASI_TINDAK_LANJUT\n",
       "X-squared = 129.82, df = 6, p-value < 2.2e-16\n"
      ]
     },
     "metadata": {},
     "output_type": "display_data"
    }
   ],
   "source": [
    "# View relationship between data variable\n",
    "chisq.test(data_kategorik$KONDISI_USAHA, data_kategorik$REKOMENDASI_TINDAK_LANJUT)"
   ]
  },
  {
   "cell_type": "code",
   "execution_count": 10,
   "metadata": {
    "colab": {
     "base_uri": "https://localhost:8080/",
     "height": 138
    },
    "id": "-B065Xd3gott",
    "outputId": "0a760e70-4394-4365-82eb-761bb3bcfdca",
    "vscode": {
     "languageId": "r"
    }
   },
   "outputs": [
    {
     "name": "stderr",
     "output_type": "stream",
     "text": [
      "Warning message in chisq.test(data_kategorik$KONDISI_JAMINAN, data_kategorik$REKOMENDASI_TINDAK_LANJUT):\n",
      "“Chi-squared approximation may be incorrect”\n"
     ]
    },
    {
     "data": {
      "text/plain": [
       "\n",
       "\tPearson's Chi-squared test\n",
       "\n",
       "data:  data_kategorik$KONDISI_JAMINAN and data_kategorik$REKOMENDASI_TINDAK_LANJUT\n",
       "X-squared = 162.87, df = 9, p-value < 2.2e-16\n"
      ]
     },
     "metadata": {},
     "output_type": "display_data"
    }
   ],
   "source": [
    "# View relationship between KONDISI_JAMINAN and REKOMENDASI_TINDAK_LANJUT columns\n",
    "chisq.test(data_kategorik$KONDISI_JAMINAN, data_kategorik$REKOMENDASI_TINDAK_LANJUT)"
   ]
  },
  {
   "cell_type": "markdown",
   "metadata": {
    "id": "7PkodEGEXRAO"
   },
   "source": [
    "Berdasarkan hasil temuan dari uji chi-square diatas dapat disimpulkan bahwa variabel kondisi usaha memiliki hubungan dengan variabel rekomendasi tindak lanjut karena p-value < 0,05(5%). Kondisi jaminan juga memiliki hubungan dengan variabel rekomendasi tindak lanjut karena p-value < 0,05(5%)."
   ]
  },
  {
   "cell_type": "markdown",
   "metadata": {
    "id": "P-zxuUa-XRAO"
   },
   "source": [
    "### Korelasi antar variabel data\n",
    "Selain melihat hubungan pada data yang bersifat kategorikal, kita juga bisa melihat hubungan antar variabel numerikal. Ya. Kita akan menggunakan korelasi."
   ]
  },
  {
   "cell_type": "code",
   "execution_count": 12,
   "metadata": {
    "colab": {
     "base_uri": "https://localhost:8080/"
    },
    "id": "O1stNDARiGTY",
    "outputId": "9db4d168-bd70-4355-9e43-f6e4d4c2be11",
    "vscode": {
     "languageId": "r"
    }
   },
   "outputs": [
    {
     "name": "stderr",
     "output_type": "stream",
     "text": [
      "Installing package into ‘/usr/local/lib/R/site-library’\n",
      "(as ‘lib’ is unspecified)\n",
      "\n"
     ]
    }
   ],
   "source": [
    "install.packages('corrplot')"
   ]
  },
  {
   "cell_type": "code",
   "execution_count": 13,
   "metadata": {
    "colab": {
     "base_uri": "https://localhost:8080/",
     "height": 489
    },
    "id": "ihDxqKF5hFWV",
    "outputId": "8fc2c124-689a-4923-e0b2-2546a9a6fc46",
    "vscode": {
     "languageId": "r"
    }
   },
   "outputs": [
    {
     "name": "stderr",
     "output_type": "stream",
     "text": [
      "corrplot 0.92 loaded\n",
      "\n"
     ]
    },
    {
     "data": {
      "text/html": [
       "<style>\n",
       ".list-inline {list-style: none; margin:0; padding: 0}\n",
       ".list-inline>li {display: inline-block}\n",
       ".list-inline>li:not(:last-child)::after {content: \"\\00b7\"; padding: 0 .5ex}\n",
       "</style>\n",
       "<ol class=list-inline><li>'PRODUK'</li><li>'PYD'</li><li>'TENOR'</li><li>'OSL'</li></ol>\n"
      ],
      "text/latex": [
       "\\begin{enumerate*}\n",
       "\\item 'PRODUK'\n",
       "\\item 'PYD'\n",
       "\\item 'TENOR'\n",
       "\\item 'OSL'\n",
       "\\end{enumerate*}\n"
      ],
      "text/markdown": [
       "1. 'PRODUK'\n",
       "2. 'PYD'\n",
       "3. 'TENOR'\n",
       "4. 'OSL'\n",
       "\n",
       "\n"
      ],
      "text/plain": [
       "[1] \"PRODUK\" \"PYD\"    \"TENOR\"  \"OSL\"   "
      ]
     },
     "metadata": {},
     "output_type": "display_data"
    },
    {
     "data": {
      "image/png": "[encoded data removed]",
      "text/plain": [
       "Plot with title “”"
      ]
     },
     "metadata": {
      "image/png": {
       "height": 420,
       "width": 420
      }
     },
     "output_type": "display_data"
    }
   ],
   "source": [
    "library(corrplot)\n",
    "\n",
    "M = data_reduce[,8:11]\n",
    "colnames(M)\n",
    "\n",
    "# Pearson Correlation\n",
    "par(mfrow=c(2,2))\n",
    "corrplot(cor(M), type = \"upper\", order = \"hclust\")\n",
    "corrplot(cor(M), method = \"square\", type = \"upper\")\n",
    "corrplot(cor(M), method = \"number\", type = \"lower\")\n",
    "corrplot(cor(M), method = \"ellipse\")"
   ]
  },
  {
   "cell_type": "code",
   "execution_count": 14,
   "metadata": {
    "colab": {
     "base_uri": "https://localhost:8080/"
    },
    "id": "I32GaZm2jKYU",
    "outputId": "a44195ff-99f4-49c1-9f0b-08840a8ffef0",
    "vscode": {
     "languageId": "r"
    }
   },
   "outputs": [
    {
     "name": "stderr",
     "output_type": "stream",
     "text": [
      "Installing package into ‘/usr/local/lib/R/site-library’\n",
      "(as ‘lib’ is unspecified)\n",
      "\n",
      "also installing the dependencies ‘plyr’, ‘Rcpp’, ‘reshape2’\n",
      "\n",
      "\n"
     ]
    }
   ],
   "source": [
    "install.packages('ggcorrplot')"
   ]
  },
  {
   "cell_type": "code",
   "execution_count": 15,
   "metadata": {
    "colab": {
     "base_uri": "https://localhost:8080/",
     "height": 472
    },
    "id": "sTU5RPTHiYUP",
    "outputId": "1854050c-f82e-4c0c-fea9-a4342fa2d9a6",
    "vscode": {
     "languageId": "r"
    }
   },
   "outputs": [
    {
     "name": "stderr",
     "output_type": "stream",
     "text": [
      "Loading required package: ggplot2\n",
      "\n"
     ]
    },
    {
     "data": {
      "image/png": "[encoded data removed]",
      "text/plain": [
       "plot without title"
      ]
     },
     "metadata": {
      "image/png": {
       "height": 420,
       "width": 420
      }
     },
     "output_type": "display_data"
    }
   ],
   "source": [
    "library(ggcorrplot)\n",
    "\n",
    "corr <- round(cor(M), 1) # Pearson Correlation\n",
    "ggcorrplot(round(cor(M), 1),\n",
    "  hc.order = TRUE,\n",
    "  type = \"lower\",\n",
    "  lab = TRUE,\n",
    "  lab_size = 3,\n",
    "  method = \"circle\",\n",
    "  colors= c(\"tomato2\", \"white\", \"springgreen3\"),\n",
    "  title = \"Correlation of Data Nasabah\",\n",
    "  ggtheme = theme_bw)"
   ]
  },
  {
   "cell_type": "markdown",
   "metadata": {
    "id": "3qhweqGyXRAP"
   },
   "source": [
    "melihat korelasi adalah dengan metode korelasi pearson dan korelasi kendall. Jika nilai korelasinya bernilai positif maka korelasi antar variabel tersebut berkorelasi kuat."
   ]
  },
  {
   "cell_type": "markdown",
   "metadata": {
    "id": "M46clqhgjfsp"
   },
   "source": [
    "## Pemilihan Variable\n"
   ]
  },
  {
   "cell_type": "markdown",
   "metadata": {
    "id": "SkRtLO5LXRAP"
   },
   "source": [
    "### Pemilihan fitur/independent variabel/input\n",
    "Dalam melakukan pemodelan tentu kita perlu meninjau variabel-variabel apa saja yang berpengaruh pada model kita, khususnya pada klasifikasi. Pada kesempatan ini kita menggunakan model Regresi Multinomial.\n",
    "\n",
    "Lalu bagaimana menentukan variabel apa saja yang berpengaruh tersebut?\n",
    "\n",
    "Ada banyak alternatif, salah satunya ialah Information Gain. Melalui information gain diambil nilai importance variabel yang lebih dari 0.02 (kamu dapat eksplorasi apa yang terjadi apabila kita mengambil nilai yang kurang dari 0.02).\n",
    "Berikut information gainnya:\n",
    "![image.png](data:image/png;base64,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)"
   ]
  },
  {
   "cell_type": "code",
   "execution_count": 16,
   "metadata": {
    "colab": {
     "base_uri": "https://localhost:8080/",
     "height": 34
    },
    "id": "PepXKoHrjRQw",
    "outputId": "7231d2c5-2f31-43fe-8ec0-ff73e1f1383b",
    "vscode": {
     "languageId": "r"
    }
   },
   "outputs": [
    {
     "data": {
      "text/html": [
       "<style>\n",
       ".list-inline {list-style: none; margin:0; padding: 0}\n",
       ".list-inline>li {display: inline-block}\n",
       ".list-inline>li:not(:last-child)::after {content: \"\\00b7\"; padding: 0 .5ex}\n",
       "</style>\n",
       "<ol class=list-inline><li>'NOMOR_KONTRAK'</li><li>'DOMISILI'</li><li>'KARAKTER'</li><li>'PROFESI'</li><li>'KONDISI_USAHA'</li><li>'KONDISI_JAMINAN'</li><li>'STATUS'</li><li>'PRODUK'</li><li>'PYD'</li><li>'TENOR'</li><li>'OSL'</li><li>'KEWAJIBAN'</li><li>'KOLEKTIBILITAS'</li><li>'COUNT_SURVEY'</li><li>'REKOMENDASI_TINDAK_LANJUT'</li></ol>\n"
      ],
      "text/latex": [
       "\\begin{enumerate*}\n",
       "\\item 'NOMOR\\_KONTRAK'\n",
       "\\item 'DOMISILI'\n",
       "\\item 'KARAKTER'\n",
       "\\item 'PROFESI'\n",
       "\\item 'KONDISI\\_USAHA'\n",
       "\\item 'KONDISI\\_JAMINAN'\n",
       "\\item 'STATUS'\n",
       "\\item 'PRODUK'\n",
       "\\item 'PYD'\n",
       "\\item 'TENOR'\n",
       "\\item 'OSL'\n",
       "\\item 'KEWAJIBAN'\n",
       "\\item 'KOLEKTIBILITAS'\n",
       "\\item 'COUNT\\_SURVEY'\n",
       "\\item 'REKOMENDASI\\_TINDAK\\_LANJUT'\n",
       "\\end{enumerate*}\n"
      ],
      "text/markdown": [
       "1. 'NOMOR_KONTRAK'\n",
       "2. 'DOMISILI'\n",
       "3. 'KARAKTER'\n",
       "4. 'PROFESI'\n",
       "5. 'KONDISI_USAHA'\n",
       "6. 'KONDISI_JAMINAN'\n",
       "7. 'STATUS'\n",
       "8. 'PRODUK'\n",
       "9. 'PYD'\n",
       "10. 'TENOR'\n",
       "11. 'OSL'\n",
       "12. 'KEWAJIBAN'\n",
       "13. 'KOLEKTIBILITAS'\n",
       "14. 'COUNT_SURVEY'\n",
       "15. 'REKOMENDASI_TINDAK_LANJUT'\n",
       "\n",
       "\n"
      ],
      "text/plain": [
       " [1] \"NOMOR_KONTRAK\"             \"DOMISILI\"                 \n",
       " [3] \"KARAKTER\"                  \"PROFESI\"                  \n",
       " [5] \"KONDISI_USAHA\"             \"KONDISI_JAMINAN\"          \n",
       " [7] \"STATUS\"                    \"PRODUK\"                   \n",
       " [9] \"PYD\"                       \"TENOR\"                    \n",
       "[11] \"OSL\"                       \"KEWAJIBAN\"                \n",
       "[13] \"KOLEKTIBILITAS\"            \"COUNT_SURVEY\"             \n",
       "[15] \"REKOMENDASI_TINDAK_LANJUT\""
      ]
     },
     "metadata": {},
     "output_type": "display_data"
    }
   ],
   "source": [
    "# Choosing independent Variable\n",
    "colnames(data_reduce)"
   ]
  },
  {
   "cell_type": "code",
   "execution_count": 17,
   "metadata": {
    "colab": {
     "base_uri": "https://localhost:8080/",
     "height": 287
    },
    "id": "LLJPJQTRjpSw",
    "outputId": "a1f97639-090e-4c9b-ac1d-3369064835cc",
    "vscode": {
     "languageId": "r"
    }
   },
   "outputs": [
    {
     "data": {
      "text/html": [
       "<table class=\"dataframe\">\n",
       "<caption>A data.frame: 6 × 8</caption>\n",
       "<thead>\n",
       "\t<tr><th></th><th scope=col>KARAKTER</th><th scope=col>KONDISI_USAHA</th><th scope=col>KONDISI_JAMINAN</th><th scope=col>STATUS</th><th scope=col>KEWAJIBAN</th><th scope=col>OSL</th><th scope=col>KOLEKTIBILITAS</th><th scope=col>REKOMENDASI_TINDAK_LANJUT</th></tr>\n",
       "\t<tr><th></th><th scope=col>&lt;chr&gt;</th><th scope=col>&lt;int&gt;</th><th scope=col>&lt;chr&gt;</th><th scope=col>&lt;int&gt;</th><th scope=col>&lt;int&gt;</th><th scope=col>&lt;int&gt;</th><th scope=col>&lt;chr&gt;</th><th scope=col>&lt;fct&gt;</th></tr>\n",
       "</thead>\n",
       "<tbody>\n",
       "\t<tr><th scope=row>1</th><td>KOOPERATIF      </td><td>2</td><td>Baik </td><td>2</td><td>4896841</td><td>28750000</td><td>DALAM PENGAWASAN KHUSUS</td><td>Angsuran Biasa </td></tr>\n",
       "\t<tr><th scope=row>2</th><td>TIDAK KOOPERATIF</td><td>3</td><td>Rusak</td><td>8</td><td>      0</td><td> 2040693</td><td>MACET                  </td><td>Penarikan      </td></tr>\n",
       "\t<tr><th scope=row>3</th><td>TIDAK KOOPERATIF</td><td>3</td><td>Baik </td><td>8</td><td>      0</td><td>       0</td><td>MACET                  </td><td>Penarikan      </td></tr>\n",
       "\t<tr><th scope=row>4</th><td>KOOPERATIF      </td><td>1</td><td>Rusak</td><td>7</td><td>      0</td><td>       0</td><td>MACET                  </td><td>Angsuran Biasa </td></tr>\n",
       "\t<tr><th scope=row>5</th><td>TIDAK KOOPERATIF</td><td>1</td><td>Baik </td><td>8</td><td>      0</td><td>19844807</td><td>MACET                  </td><td>Penarikan      </td></tr>\n",
       "\t<tr><th scope=row>6</th><td>KOOPERATIF      </td><td>1</td><td>Baik </td><td>7</td><td>2208516</td><td>27298726</td><td>DALAM PENGAWASAN KHUSUS</td><td>Restrukturisasi</td></tr>\n",
       "</tbody>\n",
       "</table>\n"
      ],
      "text/latex": [
       "A data.frame: 6 × 8\n",
       "\\begin{tabular}{r|llllllll}\n",
       "  & KARAKTER & KONDISI\\_USAHA & KONDISI\\_JAMINAN & STATUS & KEWAJIBAN & OSL & KOLEKTIBILITAS & REKOMENDASI\\_TINDAK\\_LANJUT\\\\\n",
       "  & <chr> & <int> & <chr> & <int> & <int> & <int> & <chr> & <fct>\\\\\n",
       "\\hline\n",
       "\t1 & KOOPERATIF       & 2 & Baik  & 2 & 4896841 & 28750000 & DALAM PENGAWASAN KHUSUS & Angsuran Biasa \\\\\n",
       "\t2 & TIDAK KOOPERATIF & 3 & Rusak & 8 &       0 &  2040693 & MACET                   & Penarikan      \\\\\n",
       "\t3 & TIDAK KOOPERATIF & 3 & Baik  & 8 &       0 &        0 & MACET                   & Penarikan      \\\\\n",
       "\t4 & KOOPERATIF       & 1 & Rusak & 7 &       0 &        0 & MACET                   & Angsuran Biasa \\\\\n",
       "\t5 & TIDAK KOOPERATIF & 1 & Baik  & 8 &       0 & 19844807 & MACET                   & Penarikan      \\\\\n",
       "\t6 & KOOPERATIF       & 1 & Baik  & 7 & 2208516 & 27298726 & DALAM PENGAWASAN KHUSUS & Restrukturisasi\\\\\n",
       "\\end{tabular}\n"
      ],
      "text/markdown": [
       "\n",
       "A data.frame: 6 × 8\n",
       "\n",
       "| <!--/--> | KARAKTER &lt;chr&gt; | KONDISI_USAHA &lt;int&gt; | KONDISI_JAMINAN &lt;chr&gt; | STATUS &lt;int&gt; | KEWAJIBAN &lt;int&gt; | OSL &lt;int&gt; | KOLEKTIBILITAS &lt;chr&gt; | REKOMENDASI_TINDAK_LANJUT &lt;fct&gt; |\n",
       "|---|---|---|---|---|---|---|---|---|\n",
       "| 1 | KOOPERATIF       | 2 | Baik  | 2 | 4896841 | 28750000 | DALAM PENGAWASAN KHUSUS | Angsuran Biasa  |\n",
       "| 2 | TIDAK KOOPERATIF | 3 | Rusak | 8 |       0 |  2040693 | MACET                   | Penarikan       |\n",
       "| 3 | TIDAK KOOPERATIF | 3 | Baik  | 8 |       0 |        0 | MACET                   | Penarikan       |\n",
       "| 4 | KOOPERATIF       | 1 | Rusak | 7 |       0 |        0 | MACET                   | Angsuran Biasa  |\n",
       "| 5 | TIDAK KOOPERATIF | 1 | Baik  | 8 |       0 | 19844807 | MACET                   | Penarikan       |\n",
       "| 6 | KOOPERATIF       | 1 | Baik  | 7 | 2208516 | 27298726 | DALAM PENGAWASAN KHUSUS | Restrukturisasi |\n",
       "\n"
      ],
      "text/plain": [
       "  KARAKTER         KONDISI_USAHA KONDISI_JAMINAN STATUS KEWAJIBAN OSL     \n",
       "1 KOOPERATIF       2             Baik            2      4896841   28750000\n",
       "2 TIDAK KOOPERATIF 3             Rusak           8            0    2040693\n",
       "3 TIDAK KOOPERATIF 3             Baik            8            0          0\n",
       "4 KOOPERATIF       1             Rusak           7            0          0\n",
       "5 TIDAK KOOPERATIF 1             Baik            8            0   19844807\n",
       "6 KOOPERATIF       1             Baik            7      2208516   27298726\n",
       "  KOLEKTIBILITAS          REKOMENDASI_TINDAK_LANJUT\n",
       "1 DALAM PENGAWASAN KHUSUS Angsuran Biasa           \n",
       "2 MACET                   Penarikan                \n",
       "3 MACET                   Penarikan                \n",
       "4 MACET                   Angsuran Biasa           \n",
       "5 MACET                   Penarikan                \n",
       "6 DALAM PENGAWASAN KHUSUS Restrukturisasi          "
      ]
     },
     "metadata": {},
     "output_type": "display_data"
    }
   ],
   "source": [
    "# Select column\n",
    "data_select = data_reduce[, c(\"KARAKTER\",\"KONDISI_USAHA\",\"KONDISI_JAMINAN\",\"STATUS\",\"KEWAJIBAN\",\"OSL\",\"KOLEKTIBILITAS\",\"REKOMENDASI_TINDAK_LANJUT\")]\n",
    "\n",
    "# Delete column that have NA values\n",
    "data_non_na = na.omit(data_select)\n",
    "head(data_non_na, 6)"
   ]
  },
  {
   "cell_type": "markdown",
   "metadata": {
    "id": "c5l4h8VUkPqb"
   },
   "source": [
    "### Transformasi data\n",
    "Untuk memberikan performa model yang baik, maka pada data kita perlu dilakukan ***treatment*** tertentu, misalnya dilakukan ***scalling*** atau dilakukan pengelompokan data atau disebut juga ***bucketing***."
   ]
  },
  {
   "cell_type": "code",
   "execution_count": 18,
   "metadata": {
    "colab": {
     "base_uri": "https://localhost:8080/",
     "height": 1000
    },
    "id": "lwZv0b9skPUB",
    "outputId": "1552d89d-8e78-4d14-e2ec-c274a54cd368",
    "vscode": {
     "languageId": "r"
    }
   },
   "outputs": [
    {
     "data": {
      "text/html": [
       "<table class=\"dataframe\">\n",
       "<caption>A data.frame: 457 × 8</caption>\n",
       "<thead>\n",
       "\t<tr><th></th><th scope=col>KARAKTER</th><th scope=col>KONDISI_USAHA</th><th scope=col>KONDISI_JAMINAN</th><th scope=col>STATUS</th><th scope=col>KEWAJIBAN</th><th scope=col>OSL</th><th scope=col>KOLEKTIBILITAS</th><th scope=col>REKOMENDASI_TINDAK_LANJUT</th></tr>\n",
       "\t<tr><th></th><th scope=col>&lt;chr&gt;</th><th scope=col>&lt;int&gt;</th><th scope=col>&lt;chr&gt;</th><th scope=col>&lt;int&gt;</th><th scope=col>&lt;fct&gt;</th><th scope=col>&lt;fct&gt;</th><th scope=col>&lt;chr&gt;</th><th scope=col>&lt;fct&gt;</th></tr>\n",
       "</thead>\n",
       "<tbody>\n",
       "\t<tr><th scope=row>1</th><td>KOOPERATIF      </td><td>2</td><td>Baik         </td><td>2</td><td>(-0.354,5]</td><td>(-0.354,5]</td><td>DALAM PENGAWASAN KHUSUS</td><td>Angsuran Biasa  </td></tr>\n",
       "\t<tr><th scope=row>5</th><td>TIDAK KOOPERATIF</td><td>1</td><td>Baik         </td><td>8</td><td>(-0.354,5]</td><td>(-0.354,5]</td><td>MACET                  </td><td>Penarikan       </td></tr>\n",
       "\t<tr><th scope=row>6</th><td>KOOPERATIF      </td><td>1</td><td>Baik         </td><td>7</td><td>(-0.354,5]</td><td>(-0.354,5]</td><td>DALAM PENGAWASAN KHUSUS</td><td>Restrukturisasi </td></tr>\n",
       "\t<tr><th scope=row>7</th><td>KOOPERATIF      </td><td>3</td><td>Baik         </td><td>7</td><td>(-0.354,5]</td><td>(-0.354,5]</td><td>DALAM PENGAWASAN KHUSUS</td><td>Restrukturisasi </td></tr>\n",
       "\t<tr><th scope=row>9</th><td>KOOPERATIF      </td><td>2</td><td>Baik         </td><td>7</td><td>(-0.354,5]</td><td>(-0.354,5]</td><td>LANCAR                 </td><td>Restrukturisasi </td></tr>\n",
       "\t<tr><th scope=row>11</th><td>KOOPERATIF      </td><td>3</td><td>Baik         </td><td>7</td><td>(-0.354,5]</td><td>(-0.354,5]</td><td>DALAM PENGAWASAN KHUSUS</td><td>Restrukturisasi </td></tr>\n",
       "\t<tr><th scope=row>15</th><td>TIDAK KOOPERATIF</td><td>1</td><td>Baik         </td><td>3</td><td>(-0.354,5]</td><td>(-0.354,5]</td><td>DALAM PENGAWASAN KHUSUS</td><td>Angsuran Biasa  </td></tr>\n",
       "\t<tr><th scope=row>18</th><td>KOOPERATIF      </td><td>1</td><td>Baik         </td><td>7</td><td>(-0.354,5]</td><td>(-0.354,5]</td><td>DALAM PENGAWASAN KHUSUS</td><td>Diskon Pelunasan</td></tr>\n",
       "\t<tr><th scope=row>19</th><td>KOOPERATIF      </td><td>3</td><td>Baik         </td><td>2</td><td>(-0.354,5]</td><td>(-0.354,5]</td><td>DALAM PENGAWASAN KHUSUS</td><td>Restrukturisasi </td></tr>\n",
       "\t<tr><th scope=row>21</th><td>KOOPERATIF      </td><td>3</td><td>Baik         </td><td>7</td><td>(-0.354,5]</td><td>(-0.354,5]</td><td>DALAM PENGAWASAN KHUSUS</td><td>Restrukturisasi </td></tr>\n",
       "\t<tr><th scope=row>22</th><td>KOOPERATIF      </td><td>2</td><td>Baik         </td><td>2</td><td>(-0.354,5]</td><td>(-0.354,5]</td><td>DALAM PENGAWASAN KHUSUS</td><td>Restrukturisasi </td></tr>\n",
       "\t<tr><th scope=row>23</th><td>KOOPERATIF      </td><td>2</td><td>Baik         </td><td>2</td><td>(-0.354,5]</td><td>(-0.354,5]</td><td>KURANG LANCAR          </td><td>Angsuran Biasa  </td></tr>\n",
       "\t<tr><th scope=row>24</th><td>KOOPERATIF      </td><td>2</td><td>Baik         </td><td>2</td><td>(-0.354,5]</td><td>(-0.354,5]</td><td>KURANG LANCAR          </td><td>Restrukturisasi </td></tr>\n",
       "\t<tr><th scope=row>28</th><td>KOOPERATIF      </td><td>3</td><td>Pindah Tangan</td><td>8</td><td>(-0.354,5]</td><td>(-0.354,5]</td><td>DIRAGUKAN              </td><td>Penarikan       </td></tr>\n",
       "\t<tr><th scope=row>29</th><td>KOOPERATIF      </td><td>1</td><td>Baik         </td><td>7</td><td>(-0.354,5]</td><td>(-0.354,5]</td><td>KURANG LANCAR          </td><td>Angsuran Biasa  </td></tr>\n",
       "\t<tr><th scope=row>30</th><td>TIDAK KOOPERATIF</td><td>3</td><td>Pindah Tangan</td><td>7</td><td>(-0.354,5]</td><td>(-0.354,5]</td><td>DALAM PENGAWASAN KHUSUS</td><td>Angsuran Biasa  </td></tr>\n",
       "\t<tr><th scope=row>32</th><td>KOOPERATIF      </td><td>3</td><td>Baik         </td><td>7</td><td>(-0.354,5]</td><td>(-0.354,5]</td><td>LANCAR                 </td><td>Restrukturisasi </td></tr>\n",
       "\t<tr><th scope=row>33</th><td>KOOPERATIF      </td><td>2</td><td>Baik         </td><td>7</td><td>(-0.354,5]</td><td>(-0.354,5]</td><td>LANCAR                 </td><td>Angsuran Biasa  </td></tr>\n",
       "\t<tr><th scope=row>34</th><td>KOOPERATIF      </td><td>2</td><td>Baik         </td><td>7</td><td>(-0.354,5]</td><td>(-0.354,5]</td><td>LANCAR                 </td><td>Angsuran Biasa  </td></tr>\n",
       "\t<tr><th scope=row>35</th><td>KOOPERATIF      </td><td>2</td><td>Baik         </td><td>7</td><td>(-0.354,5]</td><td>(-0.354,5]</td><td>LANCAR                 </td><td>Angsuran Biasa  </td></tr>\n",
       "\t<tr><th scope=row>39</th><td>KOOPERATIF      </td><td>2</td><td>Baik         </td><td>3</td><td>(-0.354,5]</td><td>(-0.354,5]</td><td>DALAM PENGAWASAN KHUSUS</td><td>Restrukturisasi </td></tr>\n",
       "\t<tr><th scope=row>40</th><td>KOOPERATIF      </td><td>2</td><td>Baik         </td><td>7</td><td>(-0.354,5]</td><td>(-0.354,5]</td><td>LANCAR                 </td><td>Angsuran Biasa  </td></tr>\n",
       "\t<tr><th scope=row>41</th><td>KOOPERATIF      </td><td>2</td><td>Baik         </td><td>7</td><td>(-0.354,5]</td><td>(-0.354,5]</td><td>LANCAR                 </td><td>Angsuran Biasa  </td></tr>\n",
       "\t<tr><th scope=row>42</th><td>KOOPERATIF      </td><td>2</td><td>Baik         </td><td>7</td><td>(-0.354,5]</td><td>(-0.354,5]</td><td>LANCAR                 </td><td>Angsuran Biasa  </td></tr>\n",
       "\t<tr><th scope=row>43</th><td>KOOPERATIF      </td><td>1</td><td>Baik         </td><td>2</td><td>(-0.354,5]</td><td>(-0.354,5]</td><td>DALAM PENGAWASAN KHUSUS</td><td>Angsuran Biasa  </td></tr>\n",
       "\t<tr><th scope=row>46</th><td>KOOPERATIF      </td><td>3</td><td>Baik         </td><td>7</td><td>(-0.354,5]</td><td>(-0.354,5]</td><td>KURANG LANCAR          </td><td>Restrukturisasi </td></tr>\n",
       "\t<tr><th scope=row>47</th><td>KOOPERATIF      </td><td>3</td><td>Baik         </td><td>7</td><td>(-0.354,5]</td><td>(-0.354,5]</td><td>LANCAR                 </td><td>Restrukturisasi </td></tr>\n",
       "\t<tr><th scope=row>48</th><td>KOOPERATIF      </td><td>3</td><td>Baik         </td><td>7</td><td>(-0.354,5]</td><td>(-0.354,5]</td><td>DALAM PENGAWASAN KHUSUS</td><td>Restrukturisasi </td></tr>\n",
       "\t<tr><th scope=row>50</th><td>KOOPERATIF      </td><td>1</td><td>Baik         </td><td>7</td><td>(-0.354,5]</td><td>(-0.354,5]</td><td>LANCAR                 </td><td>Angsuran Biasa  </td></tr>\n",
       "\t<tr><th scope=row>51</th><td>KOOPERATIF      </td><td>2</td><td>Baik         </td><td>7</td><td>(-0.354,5]</td><td>(-0.354,5]</td><td>DALAM PENGAWASAN KHUSUS</td><td>Restrukturisasi </td></tr>\n",
       "\t<tr><th scope=row>⋮</th><td>⋮</td><td>⋮</td><td>⋮</td><td>⋮</td><td>⋮</td><td>⋮</td><td>⋮</td><td>⋮</td></tr>\n",
       "\t<tr><th scope=row>952</th><td>KOOPERATIF      </td><td>3</td><td>Baik         </td><td>7</td><td>(-0.354,5]</td><td>(-0.354,5]</td><td>DALAM PENGAWASAN KHUSUS</td><td>Restrukturisasi </td></tr>\n",
       "\t<tr><th scope=row>953</th><td>KOOPERATIF      </td><td>3</td><td>Baik         </td><td>7</td><td>(-0.354,5]</td><td>(-0.354,5]</td><td>DALAM PENGAWASAN KHUSUS</td><td>Restrukturisasi </td></tr>\n",
       "\t<tr><th scope=row>954</th><td>KOOPERATIF      </td><td>3</td><td>Baik         </td><td>7</td><td>(-0.354,5]</td><td>(-0.354,5]</td><td>LANCAR                 </td><td>Restrukturisasi </td></tr>\n",
       "\t<tr><th scope=row>956</th><td>KOOPERATIF      </td><td>3</td><td>Baik         </td><td>7</td><td>(-0.354,5]</td><td>(-0.354,5]</td><td>DALAM PENGAWASAN KHUSUS</td><td>Restrukturisasi </td></tr>\n",
       "\t<tr><th scope=row>958</th><td>KOOPERATIF      </td><td>1</td><td>Baik         </td><td>7</td><td>(-0.354,5]</td><td>(-0.354,5]</td><td>DALAM PENGAWASAN KHUSUS</td><td>Restrukturisasi </td></tr>\n",
       "\t<tr><th scope=row>959</th><td>KOOPERATIF      </td><td>1</td><td>Baik         </td><td>7</td><td>(-0.354,5]</td><td>(-0.354,5]</td><td>DALAM PENGAWASAN KHUSUS</td><td>Restrukturisasi </td></tr>\n",
       "\t<tr><th scope=row>962</th><td>TIDAK KOOPERATIF</td><td>3</td><td>Pindah Tangan</td><td>8</td><td>(-0.354,5]</td><td>(-0.354,5]</td><td>KURANG LANCAR          </td><td>Penarikan       </td></tr>\n",
       "\t<tr><th scope=row>967</th><td>TIDAK KOOPERATIF</td><td>3</td><td>Baik         </td><td>8</td><td>(-0.354,5]</td><td>(-0.354,5]</td><td>DALAM PENGAWASAN KHUSUS</td><td>Penarikan       </td></tr>\n",
       "\t<tr><th scope=row>969</th><td>KOOPERATIF      </td><td>1</td><td>Baik         </td><td>7</td><td>(-0.354,5]</td><td>(-0.354,5]</td><td>DALAM PENGAWASAN KHUSUS</td><td>Angsuran Biasa  </td></tr>\n",
       "\t<tr><th scope=row>970</th><td>KOOPERATIF      </td><td>1</td><td>Baik         </td><td>7</td><td>(-0.354,5]</td><td>(5,15]    </td><td>DALAM PENGAWASAN KHUSUS</td><td>Diskon Pelunasan</td></tr>\n",
       "\t<tr><th scope=row>972</th><td>KOOPERATIF      </td><td>3</td><td>Baik         </td><td>3</td><td>(-0.354,5]</td><td>(-0.354,5]</td><td>DALAM PENGAWASAN KHUSUS</td><td>Restrukturisasi </td></tr>\n",
       "\t<tr><th scope=row>973</th><td>KOOPERATIF      </td><td>3</td><td>Baik         </td><td>7</td><td>(-0.354,5]</td><td>(-0.354,5]</td><td>DALAM PENGAWASAN KHUSUS</td><td>Angsuran Biasa  </td></tr>\n",
       "\t<tr><th scope=row>974</th><td>KOOPERATIF      </td><td>3</td><td>Baik         </td><td>7</td><td>(-0.354,5]</td><td>(-0.354,5]</td><td>DALAM PENGAWASAN KHUSUS</td><td>Restrukturisasi </td></tr>\n",
       "\t<tr><th scope=row>976</th><td>KOOPERATIF      </td><td>3</td><td>Baik         </td><td>7</td><td>(-0.354,5]</td><td>(-0.354,5]</td><td>KURANG LANCAR          </td><td>Restrukturisasi </td></tr>\n",
       "\t<tr><th scope=row>978</th><td>KOOPERATIF      </td><td>3</td><td>Baik         </td><td>7</td><td>(-0.354,5]</td><td>(-0.354,5]</td><td>DALAM PENGAWASAN KHUSUS</td><td>Restrukturisasi </td></tr>\n",
       "\t<tr><th scope=row>979</th><td>KOOPERATIF      </td><td>3</td><td>Baik         </td><td>7</td><td>(-0.354,5]</td><td>(-0.354,5]</td><td>DALAM PENGAWASAN KHUSUS</td><td>Restrukturisasi </td></tr>\n",
       "\t<tr><th scope=row>981</th><td>KOOPERATIF      </td><td>3</td><td>Baik         </td><td>7</td><td>(-0.354,5]</td><td>(-0.354,5]</td><td>DALAM PENGAWASAN KHUSUS</td><td>Restrukturisasi </td></tr>\n",
       "\t<tr><th scope=row>982</th><td>KOOPERATIF      </td><td>3</td><td>Baik         </td><td>7</td><td>(-0.354,5]</td><td>(-0.354,5]</td><td>DALAM PENGAWASAN KHUSUS</td><td>Restrukturisasi </td></tr>\n",
       "\t<tr><th scope=row>985</th><td>KOOPERATIF      </td><td>3</td><td>Baik         </td><td>7</td><td>(-0.354,5]</td><td>(-0.354,5]</td><td>DALAM PENGAWASAN KHUSUS</td><td>Restrukturisasi </td></tr>\n",
       "\t<tr><th scope=row>988</th><td>KOOPERATIF      </td><td>2</td><td>Baik         </td><td>7</td><td>(-0.354,5]</td><td>(-0.354,5]</td><td>DALAM PENGAWASAN KHUSUS</td><td>Angsuran Biasa  </td></tr>\n",
       "\t<tr><th scope=row>989</th><td>TIDAK KOOPERATIF</td><td>3</td><td>Baik         </td><td>2</td><td>(-0.354,5]</td><td>(-0.354,5]</td><td>DALAM PENGAWASAN KHUSUS</td><td>Angsuran Biasa  </td></tr>\n",
       "\t<tr><th scope=row>990</th><td>KOOPERATIF      </td><td>3</td><td>Baik         </td><td>2</td><td>(-0.354,5]</td><td>(-0.354,5]</td><td>DALAM PENGAWASAN KHUSUS</td><td>Restrukturisasi </td></tr>\n",
       "\t<tr><th scope=row>991</th><td>KOOPERATIF      </td><td>3</td><td>Baik         </td><td>7</td><td>(-0.354,5]</td><td>(-0.354,5]</td><td>DALAM PENGAWASAN KHUSUS</td><td>Restrukturisasi </td></tr>\n",
       "\t<tr><th scope=row>992</th><td>KOOPERATIF      </td><td>2</td><td>Baik         </td><td>3</td><td>(-0.354,5]</td><td>(-0.354,5]</td><td>DALAM PENGAWASAN KHUSUS</td><td>Angsuran Biasa  </td></tr>\n",
       "\t<tr><th scope=row>993</th><td>KOOPERATIF      </td><td>3</td><td>Baik         </td><td>2</td><td>(-0.354,5]</td><td>(-0.354,5]</td><td>DALAM PENGAWASAN KHUSUS</td><td>Restrukturisasi </td></tr>\n",
       "\t<tr><th scope=row>994</th><td>KOOPERATIF      </td><td>1</td><td>Baik         </td><td>2</td><td>(-0.354,5]</td><td>(-0.354,5]</td><td>DALAM PENGAWASAN KHUSUS</td><td>Diskon Pelunasan</td></tr>\n",
       "\t<tr><th scope=row>996</th><td>KOOPERATIF      </td><td>1</td><td>Baik         </td><td>2</td><td>(-0.354,5]</td><td>(-0.354,5]</td><td>KURANG LANCAR          </td><td>Restrukturisasi </td></tr>\n",
       "\t<tr><th scope=row>997</th><td>KOOPERATIF      </td><td>1</td><td>Baik         </td><td>2</td><td>(-0.354,5]</td><td>(-0.354,5]</td><td>KURANG LANCAR          </td><td>Restrukturisasi </td></tr>\n",
       "\t<tr><th scope=row>998</th><td>KOOPERATIF      </td><td>1</td><td>Baik         </td><td>2</td><td>(-0.354,5]</td><td>(-0.354,5]</td><td>DIRAGUKAN              </td><td>Angsuran Biasa  </td></tr>\n",
       "\t<tr><th scope=row>1000</th><td>KOOPERATIF      </td><td>2</td><td>Baik         </td><td>7</td><td>(-0.354,5]</td><td>(-0.354,5]</td><td>DALAM PENGAWASAN KHUSUS</td><td>Angsuran Biasa  </td></tr>\n",
       "</tbody>\n",
       "</table>\n"
      ],
      "text/latex": [
       "A data.frame: 457 × 8\n",
       "\\begin{tabular}{r|llllllll}\n",
       "  & KARAKTER & KONDISI\\_USAHA & KONDISI\\_JAMINAN & STATUS & KEWAJIBAN & OSL & KOLEKTIBILITAS & REKOMENDASI\\_TINDAK\\_LANJUT\\\\\n",
       "  & <chr> & <int> & <chr> & <int> & <fct> & <fct> & <chr> & <fct>\\\\\n",
       "\\hline\n",
       "\t1 & KOOPERATIF       & 2 & Baik          & 2 & (-0.354,5{]} & (-0.354,5{]} & DALAM PENGAWASAN KHUSUS & Angsuran Biasa  \\\\\n",
       "\t5 & TIDAK KOOPERATIF & 1 & Baik          & 8 & (-0.354,5{]} & (-0.354,5{]} & MACET                   & Penarikan       \\\\\n",
       "\t6 & KOOPERATIF       & 1 & Baik          & 7 & (-0.354,5{]} & (-0.354,5{]} & DALAM PENGAWASAN KHUSUS & Restrukturisasi \\\\\n",
       "\t7 & KOOPERATIF       & 3 & Baik          & 7 & (-0.354,5{]} & (-0.354,5{]} & DALAM PENGAWASAN KHUSUS & Restrukturisasi \\\\\n",
       "\t9 & KOOPERATIF       & 2 & Baik          & 7 & (-0.354,5{]} & (-0.354,5{]} & LANCAR                  & Restrukturisasi \\\\\n",
       "\t11 & KOOPERATIF       & 3 & Baik          & 7 & (-0.354,5{]} & (-0.354,5{]} & DALAM PENGAWASAN KHUSUS & Restrukturisasi \\\\\n",
       "\t15 & TIDAK KOOPERATIF & 1 & Baik          & 3 & (-0.354,5{]} & (-0.354,5{]} & DALAM PENGAWASAN KHUSUS & Angsuran Biasa  \\\\\n",
       "\t18 & KOOPERATIF       & 1 & Baik          & 7 & (-0.354,5{]} & (-0.354,5{]} & DALAM PENGAWASAN KHUSUS & Diskon Pelunasan\\\\\n",
       "\t19 & KOOPERATIF       & 3 & Baik          & 2 & (-0.354,5{]} & (-0.354,5{]} & DALAM PENGAWASAN KHUSUS & Restrukturisasi \\\\\n",
       "\t21 & KOOPERATIF       & 3 & Baik          & 7 & (-0.354,5{]} & (-0.354,5{]} & DALAM PENGAWASAN KHUSUS & Restrukturisasi \\\\\n",
       "\t22 & KOOPERATIF       & 2 & Baik          & 2 & (-0.354,5{]} & (-0.354,5{]} & DALAM PENGAWASAN KHUSUS & Restrukturisasi \\\\\n",
       "\t23 & KOOPERATIF       & 2 & Baik          & 2 & (-0.354,5{]} & (-0.354,5{]} & KURANG LANCAR           & Angsuran Biasa  \\\\\n",
       "\t24 & KOOPERATIF       & 2 & Baik          & 2 & (-0.354,5{]} & (-0.354,5{]} & KURANG LANCAR           & Restrukturisasi \\\\\n",
       "\t28 & KOOPERATIF       & 3 & Pindah Tangan & 8 & (-0.354,5{]} & (-0.354,5{]} & DIRAGUKAN               & Penarikan       \\\\\n",
       "\t29 & KOOPERATIF       & 1 & Baik          & 7 & (-0.354,5{]} & (-0.354,5{]} & KURANG LANCAR           & Angsuran Biasa  \\\\\n",
       "\t30 & TIDAK KOOPERATIF & 3 & Pindah Tangan & 7 & (-0.354,5{]} & (-0.354,5{]} & DALAM PENGAWASAN KHUSUS & Angsuran Biasa  \\\\\n",
       "\t32 & KOOPERATIF       & 3 & Baik          & 7 & (-0.354,5{]} & (-0.354,5{]} & LANCAR                  & Restrukturisasi \\\\\n",
       "\t33 & KOOPERATIF       & 2 & Baik          & 7 & (-0.354,5{]} & (-0.354,5{]} & LANCAR                  & Angsuran Biasa  \\\\\n",
       "\t34 & KOOPERATIF       & 2 & Baik          & 7 & (-0.354,5{]} & (-0.354,5{]} & LANCAR                  & Angsuran Biasa  \\\\\n",
       "\t35 & KOOPERATIF       & 2 & Baik          & 7 & (-0.354,5{]} & (-0.354,5{]} & LANCAR                  & Angsuran Biasa  \\\\\n",
       "\t39 & KOOPERATIF       & 2 & Baik          & 3 & (-0.354,5{]} & (-0.354,5{]} & DALAM PENGAWASAN KHUSUS & Restrukturisasi \\\\\n",
       "\t40 & KOOPERATIF       & 2 & Baik          & 7 & (-0.354,5{]} & (-0.354,5{]} & LANCAR                  & Angsuran Biasa  \\\\\n",
       "\t41 & KOOPERATIF       & 2 & Baik          & 7 & (-0.354,5{]} & (-0.354,5{]} & LANCAR                  & Angsuran Biasa  \\\\\n",
       "\t42 & KOOPERATIF       & 2 & Baik          & 7 & (-0.354,5{]} & (-0.354,5{]} & LANCAR                  & Angsuran Biasa  \\\\\n",
       "\t43 & KOOPERATIF       & 1 & Baik          & 2 & (-0.354,5{]} & (-0.354,5{]} & DALAM PENGAWASAN KHUSUS & Angsuran Biasa  \\\\\n",
       "\t46 & KOOPERATIF       & 3 & Baik          & 7 & (-0.354,5{]} & (-0.354,5{]} & KURANG LANCAR           & Restrukturisasi \\\\\n",
       "\t47 & KOOPERATIF       & 3 & Baik          & 7 & (-0.354,5{]} & (-0.354,5{]} & LANCAR                  & Restrukturisasi \\\\\n",
       "\t48 & KOOPERATIF       & 3 & Baik          & 7 & (-0.354,5{]} & (-0.354,5{]} & DALAM PENGAWASAN KHUSUS & Restrukturisasi \\\\\n",
       "\t50 & KOOPERATIF       & 1 & Baik          & 7 & (-0.354,5{]} & (-0.354,5{]} & LANCAR                  & Angsuran Biasa  \\\\\n",
       "\t51 & KOOPERATIF       & 2 & Baik          & 7 & (-0.354,5{]} & (-0.354,5{]} & DALAM PENGAWASAN KHUSUS & Restrukturisasi \\\\\n",
       "\t⋮ & ⋮ & ⋮ & ⋮ & ⋮ & ⋮ & ⋮ & ⋮ & ⋮\\\\\n",
       "\t952 & KOOPERATIF       & 3 & Baik          & 7 & (-0.354,5{]} & (-0.354,5{]} & DALAM PENGAWASAN KHUSUS & Restrukturisasi \\\\\n",
       "\t953 & KOOPERATIF       & 3 & Baik          & 7 & (-0.354,5{]} & (-0.354,5{]} & DALAM PENGAWASAN KHUSUS & Restrukturisasi \\\\\n",
       "\t954 & KOOPERATIF       & 3 & Baik          & 7 & (-0.354,5{]} & (-0.354,5{]} & LANCAR                  & Restrukturisasi \\\\\n",
       "\t956 & KOOPERATIF       & 3 & Baik          & 7 & (-0.354,5{]} & (-0.354,5{]} & DALAM PENGAWASAN KHUSUS & Restrukturisasi \\\\\n",
       "\t958 & KOOPERATIF       & 1 & Baik          & 7 & (-0.354,5{]} & (-0.354,5{]} & DALAM PENGAWASAN KHUSUS & Restrukturisasi \\\\\n",
       "\t959 & KOOPERATIF       & 1 & Baik          & 7 & (-0.354,5{]} & (-0.354,5{]} & DALAM PENGAWASAN KHUSUS & Restrukturisasi \\\\\n",
       "\t962 & TIDAK KOOPERATIF & 3 & Pindah Tangan & 8 & (-0.354,5{]} & (-0.354,5{]} & KURANG LANCAR           & Penarikan       \\\\\n",
       "\t967 & TIDAK KOOPERATIF & 3 & Baik          & 8 & (-0.354,5{]} & (-0.354,5{]} & DALAM PENGAWASAN KHUSUS & Penarikan       \\\\\n",
       "\t969 & KOOPERATIF       & 1 & Baik          & 7 & (-0.354,5{]} & (-0.354,5{]} & DALAM PENGAWASAN KHUSUS & Angsuran Biasa  \\\\\n",
       "\t970 & KOOPERATIF       & 1 & Baik          & 7 & (-0.354,5{]} & (5,15{]}     & DALAM PENGAWASAN KHUSUS & Diskon Pelunasan\\\\\n",
       "\t972 & KOOPERATIF       & 3 & Baik          & 3 & (-0.354,5{]} & (-0.354,5{]} & DALAM PENGAWASAN KHUSUS & Restrukturisasi \\\\\n",
       "\t973 & KOOPERATIF       & 3 & Baik          & 7 & (-0.354,5{]} & (-0.354,5{]} & DALAM PENGAWASAN KHUSUS & Angsuran Biasa  \\\\\n",
       "\t974 & KOOPERATIF       & 3 & Baik          & 7 & (-0.354,5{]} & (-0.354,5{]} & DALAM PENGAWASAN KHUSUS & Restrukturisasi \\\\\n",
       "\t976 & KOOPERATIF       & 3 & Baik          & 7 & (-0.354,5{]} & (-0.354,5{]} & KURANG LANCAR           & Restrukturisasi \\\\\n",
       "\t978 & KOOPERATIF       & 3 & Baik          & 7 & (-0.354,5{]} & (-0.354,5{]} & DALAM PENGAWASAN KHUSUS & Restrukturisasi \\\\\n",
       "\t979 & KOOPERATIF       & 3 & Baik          & 7 & (-0.354,5{]} & (-0.354,5{]} & DALAM PENGAWASAN KHUSUS & Restrukturisasi \\\\\n",
       "\t981 & KOOPERATIF       & 3 & Baik          & 7 & (-0.354,5{]} & (-0.354,5{]} & DALAM PENGAWASAN KHUSUS & Restrukturisasi \\\\\n",
       "\t982 & KOOPERATIF       & 3 & Baik          & 7 & (-0.354,5{]} & (-0.354,5{]} & DALAM PENGAWASAN KHUSUS & Restrukturisasi \\\\\n",
       "\t985 & KOOPERATIF       & 3 & Baik          & 7 & (-0.354,5{]} & (-0.354,5{]} & DALAM PENGAWASAN KHUSUS & Restrukturisasi \\\\\n",
       "\t988 & KOOPERATIF       & 2 & Baik          & 7 & (-0.354,5{]} & (-0.354,5{]} & DALAM PENGAWASAN KHUSUS & Angsuran Biasa  \\\\\n",
       "\t989 & TIDAK KOOPERATIF & 3 & Baik          & 2 & (-0.354,5{]} & (-0.354,5{]} & DALAM PENGAWASAN KHUSUS & Angsuran Biasa  \\\\\n",
       "\t990 & KOOPERATIF       & 3 & Baik          & 2 & (-0.354,5{]} & (-0.354,5{]} & DALAM PENGAWASAN KHUSUS & Restrukturisasi \\\\\n",
       "\t991 & KOOPERATIF       & 3 & Baik          & 7 & (-0.354,5{]} & (-0.354,5{]} & DALAM PENGAWASAN KHUSUS & Restrukturisasi \\\\\n",
       "\t992 & KOOPERATIF       & 2 & Baik          & 3 & (-0.354,5{]} & (-0.354,5{]} & DALAM PENGAWASAN KHUSUS & Angsuran Biasa  \\\\\n",
       "\t993 & KOOPERATIF       & 3 & Baik          & 2 & (-0.354,5{]} & (-0.354,5{]} & DALAM PENGAWASAN KHUSUS & Restrukturisasi \\\\\n",
       "\t994 & KOOPERATIF       & 1 & Baik          & 2 & (-0.354,5{]} & (-0.354,5{]} & DALAM PENGAWASAN KHUSUS & Diskon Pelunasan\\\\\n",
       "\t996 & KOOPERATIF       & 1 & Baik          & 2 & (-0.354,5{]} & (-0.354,5{]} & KURANG LANCAR           & Restrukturisasi \\\\\n",
       "\t997 & KOOPERATIF       & 1 & Baik          & 2 & (-0.354,5{]} & (-0.354,5{]} & KURANG LANCAR           & Restrukturisasi \\\\\n",
       "\t998 & KOOPERATIF       & 1 & Baik          & 2 & (-0.354,5{]} & (-0.354,5{]} & DIRAGUKAN               & Angsuran Biasa  \\\\\n",
       "\t1000 & KOOPERATIF       & 2 & Baik          & 7 & (-0.354,5{]} & (-0.354,5{]} & DALAM PENGAWASAN KHUSUS & Angsuran Biasa  \\\\\n",
       "\\end{tabular}\n"
      ],
      "text/markdown": [
       "\n",
       "A data.frame: 457 × 8\n",
       "\n",
       "| <!--/--> | KARAKTER &lt;chr&gt; | KONDISI_USAHA &lt;int&gt; | KONDISI_JAMINAN &lt;chr&gt; | STATUS &lt;int&gt; | KEWAJIBAN &lt;fct&gt; | OSL &lt;fct&gt; | KOLEKTIBILITAS &lt;chr&gt; | REKOMENDASI_TINDAK_LANJUT &lt;fct&gt; |\n",
       "|---|---|---|---|---|---|---|---|---|\n",
       "| 1 | KOOPERATIF       | 2 | Baik          | 2 | (-0.354,5] | (-0.354,5] | DALAM PENGAWASAN KHUSUS | Angsuran Biasa   |\n",
       "| 5 | TIDAK KOOPERATIF | 1 | Baik          | 8 | (-0.354,5] | (-0.354,5] | MACET                   | Penarikan        |\n",
       "| 6 | KOOPERATIF       | 1 | Baik          | 7 | (-0.354,5] | (-0.354,5] | DALAM PENGAWASAN KHUSUS | Restrukturisasi  |\n",
       "| 7 | KOOPERATIF       | 3 | Baik          | 7 | (-0.354,5] | (-0.354,5] | DALAM PENGAWASAN KHUSUS | Restrukturisasi  |\n",
       "| 9 | KOOPERATIF       | 2 | Baik          | 7 | (-0.354,5] | (-0.354,5] | LANCAR                  | Restrukturisasi  |\n",
       "| 11 | KOOPERATIF       | 3 | Baik          | 7 | (-0.354,5] | (-0.354,5] | DALAM PENGAWASAN KHUSUS | Restrukturisasi  |\n",
       "| 15 | TIDAK KOOPERATIF | 1 | Baik          | 3 | (-0.354,5] | (-0.354,5] | DALAM PENGAWASAN KHUSUS | Angsuran Biasa   |\n",
       "| 18 | KOOPERATIF       | 1 | Baik          | 7 | (-0.354,5] | (-0.354,5] | DALAM PENGAWASAN KHUSUS | Diskon Pelunasan |\n",
       "| 19 | KOOPERATIF       | 3 | Baik          | 2 | (-0.354,5] | (-0.354,5] | DALAM PENGAWASAN KHUSUS | Restrukturisasi  |\n",
       "| 21 | KOOPERATIF       | 3 | Baik          | 7 | (-0.354,5] | (-0.354,5] | DALAM PENGAWASAN KHUSUS | Restrukturisasi  |\n",
       "| 22 | KOOPERATIF       | 2 | Baik          | 2 | (-0.354,5] | (-0.354,5] | DALAM PENGAWASAN KHUSUS | Restrukturisasi  |\n",
       "| 23 | KOOPERATIF       | 2 | Baik          | 2 | (-0.354,5] | (-0.354,5] | KURANG LANCAR           | Angsuran Biasa   |\n",
       "| 24 | KOOPERATIF       | 2 | Baik          | 2 | (-0.354,5] | (-0.354,5] | KURANG LANCAR           | Restrukturisasi  |\n",
       "| 28 | KOOPERATIF       | 3 | Pindah Tangan | 8 | (-0.354,5] | (-0.354,5] | DIRAGUKAN               | Penarikan        |\n",
       "| 29 | KOOPERATIF       | 1 | Baik          | 7 | (-0.354,5] | (-0.354,5] | KURANG LANCAR           | Angsuran Biasa   |\n",
       "| 30 | TIDAK KOOPERATIF | 3 | Pindah Tangan | 7 | (-0.354,5] | (-0.354,5] | DALAM PENGAWASAN KHUSUS | Angsuran Biasa   |\n",
       "| 32 | KOOPERATIF       | 3 | Baik          | 7 | (-0.354,5] | (-0.354,5] | LANCAR                  | Restrukturisasi  |\n",
       "| 33 | KOOPERATIF       | 2 | Baik          | 7 | (-0.354,5] | (-0.354,5] | LANCAR                  | Angsuran Biasa   |\n",
       "| 34 | KOOPERATIF       | 2 | Baik          | 7 | (-0.354,5] | (-0.354,5] | LANCAR                  | Angsuran Biasa   |\n",
       "| 35 | KOOPERATIF       | 2 | Baik          | 7 | (-0.354,5] | (-0.354,5] | LANCAR                  | Angsuran Biasa   |\n",
       "| 39 | KOOPERATIF       | 2 | Baik          | 3 | (-0.354,5] | (-0.354,5] | DALAM PENGAWASAN KHUSUS | Restrukturisasi  |\n",
       "| 40 | KOOPERATIF       | 2 | Baik          | 7 | (-0.354,5] | (-0.354,5] | LANCAR                  | Angsuran Biasa   |\n",
       "| 41 | KOOPERATIF       | 2 | Baik          | 7 | (-0.354,5] | (-0.354,5] | LANCAR                  | Angsuran Biasa   |\n",
       "| 42 | KOOPERATIF       | 2 | Baik          | 7 | (-0.354,5] | (-0.354,5] | LANCAR                  | Angsuran Biasa   |\n",
       "| 43 | KOOPERATIF       | 1 | Baik          | 2 | (-0.354,5] | (-0.354,5] | DALAM PENGAWASAN KHUSUS | Angsuran Biasa   |\n",
       "| 46 | KOOPERATIF       | 3 | Baik          | 7 | (-0.354,5] | (-0.354,5] | KURANG LANCAR           | Restrukturisasi  |\n",
       "| 47 | KOOPERATIF       | 3 | Baik          | 7 | (-0.354,5] | (-0.354,5] | LANCAR                  | Restrukturisasi  |\n",
       "| 48 | KOOPERATIF       | 3 | Baik          | 7 | (-0.354,5] | (-0.354,5] | DALAM PENGAWASAN KHUSUS | Restrukturisasi  |\n",
       "| 50 | KOOPERATIF       | 1 | Baik          | 7 | (-0.354,5] | (-0.354,5] | LANCAR                  | Angsuran Biasa   |\n",
       "| 51 | KOOPERATIF       | 2 | Baik          | 7 | (-0.354,5] | (-0.354,5] | DALAM PENGAWASAN KHUSUS | Restrukturisasi  |\n",
       "| ⋮ | ⋮ | ⋮ | ⋮ | ⋮ | ⋮ | ⋮ | ⋮ | ⋮ |\n",
       "| 952 | KOOPERATIF       | 3 | Baik          | 7 | (-0.354,5] | (-0.354,5] | DALAM PENGAWASAN KHUSUS | Restrukturisasi  |\n",
       "| 953 | KOOPERATIF       | 3 | Baik          | 7 | (-0.354,5] | (-0.354,5] | DALAM PENGAWASAN KHUSUS | Restrukturisasi  |\n",
       "| 954 | KOOPERATIF       | 3 | Baik          | 7 | (-0.354,5] | (-0.354,5] | LANCAR                  | Restrukturisasi  |\n",
       "| 956 | KOOPERATIF       | 3 | Baik          | 7 | (-0.354,5] | (-0.354,5] | DALAM PENGAWASAN KHUSUS | Restrukturisasi  |\n",
       "| 958 | KOOPERATIF       | 1 | Baik          | 7 | (-0.354,5] | (-0.354,5] | DALAM PENGAWASAN KHUSUS | Restrukturisasi  |\n",
       "| 959 | KOOPERATIF       | 1 | Baik          | 7 | (-0.354,5] | (-0.354,5] | DALAM PENGAWASAN KHUSUS | Restrukturisasi  |\n",
       "| 962 | TIDAK KOOPERATIF | 3 | Pindah Tangan | 8 | (-0.354,5] | (-0.354,5] | KURANG LANCAR           | Penarikan        |\n",
       "| 967 | TIDAK KOOPERATIF | 3 | Baik          | 8 | (-0.354,5] | (-0.354,5] | DALAM PENGAWASAN KHUSUS | Penarikan        |\n",
       "| 969 | KOOPERATIF       | 1 | Baik          | 7 | (-0.354,5] | (-0.354,5] | DALAM PENGAWASAN KHUSUS | Angsuran Biasa   |\n",
       "| 970 | KOOPERATIF       | 1 | Baik          | 7 | (-0.354,5] | (5,15]     | DALAM PENGAWASAN KHUSUS | Diskon Pelunasan |\n",
       "| 972 | KOOPERATIF       | 3 | Baik          | 3 | (-0.354,5] | (-0.354,5] | DALAM PENGAWASAN KHUSUS | Restrukturisasi  |\n",
       "| 973 | KOOPERATIF       | 3 | Baik          | 7 | (-0.354,5] | (-0.354,5] | DALAM PENGAWASAN KHUSUS | Angsuran Biasa   |\n",
       "| 974 | KOOPERATIF       | 3 | Baik          | 7 | (-0.354,5] | (-0.354,5] | DALAM PENGAWASAN KHUSUS | Restrukturisasi  |\n",
       "| 976 | KOOPERATIF       | 3 | Baik          | 7 | (-0.354,5] | (-0.354,5] | KURANG LANCAR           | Restrukturisasi  |\n",
       "| 978 | KOOPERATIF       | 3 | Baik          | 7 | (-0.354,5] | (-0.354,5] | DALAM PENGAWASAN KHUSUS | Restrukturisasi  |\n",
       "| 979 | KOOPERATIF       | 3 | Baik          | 7 | (-0.354,5] | (-0.354,5] | DALAM PENGAWASAN KHUSUS | Restrukturisasi  |\n",
       "| 981 | KOOPERATIF       | 3 | Baik          | 7 | (-0.354,5] | (-0.354,5] | DALAM PENGAWASAN KHUSUS | Restrukturisasi  |\n",
       "| 982 | KOOPERATIF       | 3 | Baik          | 7 | (-0.354,5] | (-0.354,5] | DALAM PENGAWASAN KHUSUS | Restrukturisasi  |\n",
       "| 985 | KOOPERATIF       | 3 | Baik          | 7 | (-0.354,5] | (-0.354,5] | DALAM PENGAWASAN KHUSUS | Restrukturisasi  |\n",
       "| 988 | KOOPERATIF       | 2 | Baik          | 7 | (-0.354,5] | (-0.354,5] | DALAM PENGAWASAN KHUSUS | Angsuran Biasa   |\n",
       "| 989 | TIDAK KOOPERATIF | 3 | Baik          | 2 | (-0.354,5] | (-0.354,5] | DALAM PENGAWASAN KHUSUS | Angsuran Biasa   |\n",
       "| 990 | KOOPERATIF       | 3 | Baik          | 2 | (-0.354,5] | (-0.354,5] | DALAM PENGAWASAN KHUSUS | Restrukturisasi  |\n",
       "| 991 | KOOPERATIF       | 3 | Baik          | 7 | (-0.354,5] | (-0.354,5] | DALAM PENGAWASAN KHUSUS | Restrukturisasi  |\n",
       "| 992 | KOOPERATIF       | 2 | Baik          | 3 | (-0.354,5] | (-0.354,5] | DALAM PENGAWASAN KHUSUS | Angsuran Biasa   |\n",
       "| 993 | KOOPERATIF       | 3 | Baik          | 2 | (-0.354,5] | (-0.354,5] | DALAM PENGAWASAN KHUSUS | Restrukturisasi  |\n",
       "| 994 | KOOPERATIF       | 1 | Baik          | 2 | (-0.354,5] | (-0.354,5] | DALAM PENGAWASAN KHUSUS | Diskon Pelunasan |\n",
       "| 996 | KOOPERATIF       | 1 | Baik          | 2 | (-0.354,5] | (-0.354,5] | KURANG LANCAR           | Restrukturisasi  |\n",
       "| 997 | KOOPERATIF       | 1 | Baik          | 2 | (-0.354,5] | (-0.354,5] | KURANG LANCAR           | Restrukturisasi  |\n",
       "| 998 | KOOPERATIF       | 1 | Baik          | 2 | (-0.354,5] | (-0.354,5] | DIRAGUKAN               | Angsuran Biasa   |\n",
       "| 1000 | KOOPERATIF       | 2 | Baik          | 7 | (-0.354,5] | (-0.354,5] | DALAM PENGAWASAN KHUSUS | Angsuran Biasa   |\n",
       "\n"
      ],
      "text/plain": [
       "     KARAKTER         KONDISI_USAHA KONDISI_JAMINAN STATUS KEWAJIBAN \n",
       "1    KOOPERATIF       2             Baik            2      (-0.354,5]\n",
       "5    TIDAK KOOPERATIF 1             Baik            8      (-0.354,5]\n",
       "6    KOOPERATIF       1             Baik            7      (-0.354,5]\n",
       "7    KOOPERATIF       3             Baik            7      (-0.354,5]\n",
       "9    KOOPERATIF       2             Baik            7      (-0.354,5]\n",
       "11   KOOPERATIF       3             Baik            7      (-0.354,5]\n",
       "15   TIDAK KOOPERATIF 1             Baik            3      (-0.354,5]\n",
       "18   KOOPERATIF       1             Baik            7      (-0.354,5]\n",
       "19   KOOPERATIF       3             Baik            2      (-0.354,5]\n",
       "21   KOOPERATIF       3             Baik            7      (-0.354,5]\n",
       "22   KOOPERATIF       2             Baik            2      (-0.354,5]\n",
       "23   KOOPERATIF       2             Baik            2      (-0.354,5]\n",
       "24   KOOPERATIF       2             Baik            2      (-0.354,5]\n",
       "28   KOOPERATIF       3             Pindah Tangan   8      (-0.354,5]\n",
       "29   KOOPERATIF       1             Baik            7      (-0.354,5]\n",
       "30   TIDAK KOOPERATIF 3             Pindah Tangan   7      (-0.354,5]\n",
       "32   KOOPERATIF       3             Baik            7      (-0.354,5]\n",
       "33   KOOPERATIF       2             Baik            7      (-0.354,5]\n",
       "34   KOOPERATIF       2             Baik            7      (-0.354,5]\n",
       "35   KOOPERATIF       2             Baik            7      (-0.354,5]\n",
       "39   KOOPERATIF       2             Baik            3      (-0.354,5]\n",
       "40   KOOPERATIF       2             Baik            7      (-0.354,5]\n",
       "41   KOOPERATIF       2             Baik            7      (-0.354,5]\n",
       "42   KOOPERATIF       2             Baik            7      (-0.354,5]\n",
       "43   KOOPERATIF       1             Baik            2      (-0.354,5]\n",
       "46   KOOPERATIF       3             Baik            7      (-0.354,5]\n",
       "47   KOOPERATIF       3             Baik            7      (-0.354,5]\n",
       "48   KOOPERATIF       3             Baik            7      (-0.354,5]\n",
       "50   KOOPERATIF       1             Baik            7      (-0.354,5]\n",
       "51   KOOPERATIF       2             Baik            7      (-0.354,5]\n",
       "⋮    ⋮                ⋮             ⋮               ⋮      ⋮         \n",
       "952  KOOPERATIF       3             Baik            7      (-0.354,5]\n",
       "953  KOOPERATIF       3             Baik            7      (-0.354,5]\n",
       "954  KOOPERATIF       3             Baik            7      (-0.354,5]\n",
       "956  KOOPERATIF       3             Baik            7      (-0.354,5]\n",
       "958  KOOPERATIF       1             Baik            7      (-0.354,5]\n",
       "959  KOOPERATIF       1             Baik            7      (-0.354,5]\n",
       "962  TIDAK KOOPERATIF 3             Pindah Tangan   8      (-0.354,5]\n",
       "967  TIDAK KOOPERATIF 3             Baik            8      (-0.354,5]\n",
       "969  KOOPERATIF       1             Baik            7      (-0.354,5]\n",
       "970  KOOPERATIF       1             Baik            7      (-0.354,5]\n",
       "972  KOOPERATIF       3             Baik            3      (-0.354,5]\n",
       "973  KOOPERATIF       3             Baik            7      (-0.354,5]\n",
       "974  KOOPERATIF       3             Baik            7      (-0.354,5]\n",
       "976  KOOPERATIF       3             Baik            7      (-0.354,5]\n",
       "978  KOOPERATIF       3             Baik            7      (-0.354,5]\n",
       "979  KOOPERATIF       3             Baik            7      (-0.354,5]\n",
       "981  KOOPERATIF       3             Baik            7      (-0.354,5]\n",
       "982  KOOPERATIF       3             Baik            7      (-0.354,5]\n",
       "985  KOOPERATIF       3             Baik            7      (-0.354,5]\n",
       "988  KOOPERATIF       2             Baik            7      (-0.354,5]\n",
       "989  TIDAK KOOPERATIF 3             Baik            2      (-0.354,5]\n",
       "990  KOOPERATIF       3             Baik            2      (-0.354,5]\n",
       "991  KOOPERATIF       3             Baik            7      (-0.354,5]\n",
       "992  KOOPERATIF       2             Baik            3      (-0.354,5]\n",
       "993  KOOPERATIF       3             Baik            2      (-0.354,5]\n",
       "994  KOOPERATIF       1             Baik            2      (-0.354,5]\n",
       "996  KOOPERATIF       1             Baik            2      (-0.354,5]\n",
       "997  KOOPERATIF       1             Baik            2      (-0.354,5]\n",
       "998  KOOPERATIF       1             Baik            2      (-0.354,5]\n",
       "1000 KOOPERATIF       2             Baik            7      (-0.354,5]\n",
       "     OSL        KOLEKTIBILITAS          REKOMENDASI_TINDAK_LANJUT\n",
       "1    (-0.354,5] DALAM PENGAWASAN KHUSUS Angsuran Biasa           \n",
       "5    (-0.354,5] MACET                   Penarikan                \n",
       "6    (-0.354,5] DALAM PENGAWASAN KHUSUS Restrukturisasi          \n",
       "7    (-0.354,5] DALAM PENGAWASAN KHUSUS Restrukturisasi          \n",
       "9    (-0.354,5] LANCAR                  Restrukturisasi          \n",
       "11   (-0.354,5] DALAM PENGAWASAN KHUSUS Restrukturisasi          \n",
       "15   (-0.354,5] DALAM PENGAWASAN KHUSUS Angsuran Biasa           \n",
       "18   (-0.354,5] DALAM PENGAWASAN KHUSUS Diskon Pelunasan         \n",
       "19   (-0.354,5] DALAM PENGAWASAN KHUSUS Restrukturisasi          \n",
       "21   (-0.354,5] DALAM PENGAWASAN KHUSUS Restrukturisasi          \n",
       "22   (-0.354,5] DALAM PENGAWASAN KHUSUS Restrukturisasi          \n",
       "23   (-0.354,5] KURANG LANCAR           Angsuran Biasa           \n",
       "24   (-0.354,5] KURANG LANCAR           Restrukturisasi          \n",
       "28   (-0.354,5] DIRAGUKAN               Penarikan                \n",
       "29   (-0.354,5] KURANG LANCAR           Angsuran Biasa           \n",
       "30   (-0.354,5] DALAM PENGAWASAN KHUSUS Angsuran Biasa           \n",
       "32   (-0.354,5] LANCAR                  Restrukturisasi          \n",
       "33   (-0.354,5] LANCAR                  Angsuran Biasa           \n",
       "34   (-0.354,5] LANCAR                  Angsuran Biasa           \n",
       "35   (-0.354,5] LANCAR                  Angsuran Biasa           \n",
       "39   (-0.354,5] DALAM PENGAWASAN KHUSUS Restrukturisasi          \n",
       "40   (-0.354,5] LANCAR                  Angsuran Biasa           \n",
       "41   (-0.354,5] LANCAR                  Angsuran Biasa           \n",
       "42   (-0.354,5] LANCAR                  Angsuran Biasa           \n",
       "43   (-0.354,5] DALAM PENGAWASAN KHUSUS Angsuran Biasa           \n",
       "46   (-0.354,5] KURANG LANCAR           Restrukturisasi          \n",
       "47   (-0.354,5] LANCAR                  Restrukturisasi          \n",
       "48   (-0.354,5] DALAM PENGAWASAN KHUSUS Restrukturisasi          \n",
       "50   (-0.354,5] LANCAR                  Angsuran Biasa           \n",
       "51   (-0.354,5] DALAM PENGAWASAN KHUSUS Restrukturisasi          \n",
       "⋮    ⋮          ⋮                       ⋮                        \n",
       "952  (-0.354,5] DALAM PENGAWASAN KHUSUS Restrukturisasi          \n",
       "953  (-0.354,5] DALAM PENGAWASAN KHUSUS Restrukturisasi          \n",
       "954  (-0.354,5] LANCAR                  Restrukturisasi          \n",
       "956  (-0.354,5] DALAM PENGAWASAN KHUSUS Restrukturisasi          \n",
       "958  (-0.354,5] DALAM PENGAWASAN KHUSUS Restrukturisasi          \n",
       "959  (-0.354,5] DALAM PENGAWASAN KHUSUS Restrukturisasi          \n",
       "962  (-0.354,5] KURANG LANCAR           Penarikan                \n",
       "967  (-0.354,5] DALAM PENGAWASAN KHUSUS Penarikan                \n",
       "969  (-0.354,5] DALAM PENGAWASAN KHUSUS Angsuran Biasa           \n",
       "970  (5,15]     DALAM PENGAWASAN KHUSUS Diskon Pelunasan         \n",
       "972  (-0.354,5] DALAM PENGAWASAN KHUSUS Restrukturisasi          \n",
       "973  (-0.354,5] DALAM PENGAWASAN KHUSUS Angsuran Biasa           \n",
       "974  (-0.354,5] DALAM PENGAWASAN KHUSUS Restrukturisasi          \n",
       "976  (-0.354,5] KURANG LANCAR           Restrukturisasi          \n",
       "978  (-0.354,5] DALAM PENGAWASAN KHUSUS Restrukturisasi          \n",
       "979  (-0.354,5] DALAM PENGAWASAN KHUSUS Restrukturisasi          \n",
       "981  (-0.354,5] DALAM PENGAWASAN KHUSUS Restrukturisasi          \n",
       "982  (-0.354,5] DALAM PENGAWASAN KHUSUS Restrukturisasi          \n",
       "985  (-0.354,5] DALAM PENGAWASAN KHUSUS Restrukturisasi          \n",
       "988  (-0.354,5] DALAM PENGAWASAN KHUSUS Angsuran Biasa           \n",
       "989  (-0.354,5] DALAM PENGAWASAN KHUSUS Angsuran Biasa           \n",
       "990  (-0.354,5] DALAM PENGAWASAN KHUSUS Restrukturisasi          \n",
       "991  (-0.354,5] DALAM PENGAWASAN KHUSUS Restrukturisasi          \n",
       "992  (-0.354,5] DALAM PENGAWASAN KHUSUS Angsuran Biasa           \n",
       "993  (-0.354,5] DALAM PENGAWASAN KHUSUS Restrukturisasi          \n",
       "994  (-0.354,5] DALAM PENGAWASAN KHUSUS Diskon Pelunasan         \n",
       "996  (-0.354,5] KURANG LANCAR           Restrukturisasi          \n",
       "997  (-0.354,5] KURANG LANCAR           Restrukturisasi          \n",
       "998  (-0.354,5] DIRAGUKAN               Angsuran Biasa           \n",
       "1000 (-0.354,5] DALAM PENGAWASAN KHUSUS Angsuran Biasa           "
      ]
     },
     "metadata": {},
     "output_type": "display_data"
    }
   ],
   "source": [
    "data_select_new = data_select\n",
    "data_select_new$KEWAJIBAN = scale(data_select_new$KEWAJIBAN) [, 1]\n",
    "data_select_new$OSL = scale(data_select_new$OSL) [, 1]\n",
    "data_select_new$KEWAJIBAN = cut(data_select_new$KEWAJIBAN, breaks = c(-0.354107,5,15,30))\n",
    "data_select_new$KEWAJIBAN = as.factor(data_select_new$KEWAJIBAN)\n",
    "data_select_new$OSL = cut(data_select_new$OSL, breaks = c(-0.354107,5,15,30))\n",
    "data_select_new$OSL = as.factor(data_select_new$OSL)\n",
    "data_select_new = na.omit(data_select_new)\n",
    "data_select_new"
   ]
  },
  {
   "cell_type": "markdown",
   "metadata": {
    "id": "mlKbN8FymLyy"
   },
   "source": [
    "### Training data\n",
    "Sebelum masuk pada pemodelan, kita perlu memisahkan data kita menjadi training dan testing (ada pula yang membaginya menjadi training, testing, dan validasi).\n",
    "\n",
    "Tujuan dari pemisahan data ini ialah untuk melihat kemampuan model kita untuk melakukan prediksi sebagaimana tujuan dari pemodelan kita."
   ]
  },
  {
   "cell_type": "code",
   "execution_count": 19,
   "metadata": {
    "colab": {
     "base_uri": "https://localhost:8080/"
    },
    "id": "zLmpxry7mNrs",
    "outputId": "0ce9c78d-4adc-4384-c29c-9da74fe78f37",
    "vscode": {
     "languageId": "r"
    }
   },
   "outputs": [
    {
     "name": "stderr",
     "output_type": "stream",
     "text": [
      "Installing package into ‘/usr/local/lib/R/site-library’\n",
      "(as ‘lib’ is unspecified)\n",
      "\n",
      "also installing the dependencies ‘listenv’, ‘parallelly’, ‘future’, ‘globals’, ‘shape’, ‘future.apply’, ‘numDeriv’, ‘progressr’, ‘SQUAREM’, ‘diagram’, ‘lava’, ‘prodlim’, ‘proxy’, ‘iterators’, ‘clock’, ‘gower’, ‘hardhat’, ‘ipred’, ‘timeDate’, ‘e1071’, ‘foreach’, ‘ModelMetrics’, ‘pROC’, ‘recipes’\n",
      "\n",
      "\n"
     ]
    }
   ],
   "source": [
    "install.packages('caret')"
   ]
  },
  {
   "cell_type": "code",
   "execution_count": 20,
   "metadata": {
    "colab": {
     "base_uri": "https://localhost:8080/"
    },
    "id": "sGnswC53oGZv",
    "outputId": "b80f3391-ccbc-4764-e4ee-ff2a5e099639",
    "vscode": {
     "languageId": "r"
    }
   },
   "outputs": [
    {
     "name": "stderr",
     "output_type": "stream",
     "text": [
      "Installing package into ‘/usr/local/lib/R/site-library’\n",
      "(as ‘lib’ is unspecified)\n",
      "\n"
     ]
    }
   ],
   "source": [
    "install.packages('lattice')"
   ]
  },
  {
   "cell_type": "code",
   "execution_count": 21,
   "metadata": {
    "colab": {
     "base_uri": "https://localhost:8080/",
     "height": 69
    },
    "id": "SEKXt4CHmVnf",
    "outputId": "45779133-89b3-45cf-c8f6-0972f3f91b68",
    "vscode": {
     "languageId": "r"
    }
   },
   "outputs": [
    {
     "name": "stderr",
     "output_type": "stream",
     "text": [
      "Loading required package: lattice\n",
      "\n"
     ]
    },
    {
     "data": {
      "text/html": [
       "<style>\n",
       ".list-inline {list-style: none; margin:0; padding: 0}\n",
       ".list-inline>li {display: inline-block}\n",
       ".list-inline>li:not(:last-child)::after {content: \"\\00b7\"; padding: 0 .5ex}\n",
       "</style>\n",
       "<ol class=list-inline><li>437</li><li>8</li></ol>\n"
      ],
      "text/latex": [
       "\\begin{enumerate*}\n",
       "\\item 437\n",
       "\\item 8\n",
       "\\end{enumerate*}\n"
      ],
      "text/markdown": [
       "1. 437\n",
       "2. 8\n",
       "\n",
       "\n"
      ],
      "text/plain": [
       "[1] 437   8"
      ]
     },
     "metadata": {},
     "output_type": "display_data"
    }
   ],
   "source": [
    "library(caret)\n",
    "\n",
    "# Create an index to split dataset with a proportion of 95% training data and 5% test data\n",
    "index = createDataPartition(data_select_new$REKOMENDASI_TINDAK_LANJUT, p= .95, list = FALSE)\n",
    "\n",
    "# Selecting rows that match the index for the training data.\n",
    "train = data_select_new[index, ]\n",
    "\n",
    "# Selecting rows that do not match the index for the test data.\n",
    "test = data_select_new[-index, ]\n",
    "\n",
    "# Display the dimensions of the training dataset\n",
    "dim(train)"
   ]
  },
  {
   "cell_type": "code",
   "execution_count": 22,
   "metadata": {
    "colab": {
     "base_uri": "https://localhost:8080/",
     "height": 34
    },
    "id": "SYqT6Zu6mq4h",
    "outputId": "5a9a7e09-eacc-43b7-ee26-e989af8d4722"
   },
   "outputs": [
    {
     "data": {
      "text/html": [
       "<style>\n",
       ".list-inline {list-style: none; margin:0; padding: 0}\n",
       ".list-inline>li {display: inline-block}\n",
       ".list-inline>li:not(:last-child)::after {content: \"\\00b7\"; padding: 0 .5ex}\n",
       "</style>\n",
       "<ol class=list-inline><li>20</li><li>8</li></ol>\n"
      ],
      "text/latex": [
       "\\begin{enumerate*}\n",
       "\\item 20\n",
       "\\item 8\n",
       "\\end{enumerate*}\n"
      ],
      "text/markdown": [
       "1. 20\n",
       "2. 8\n",
       "\n",
       "\n"
      ],
      "text/plain": [
       "[1] 20  8"
      ]
     },
     "metadata": {},
     "output_type": "display_data"
    }
   ],
   "source": [
    "# Display the dimensions of the training dataset\n",
    "dim(test)"
   ]
  },
  {
   "cell_type": "markdown",
   "metadata": {
    "id": "4fOq5N74myni"
   },
   "source": [
    "### Pemodelan/Modelling data\n",
    "Sekarang kita siap untuk masuk pada pemodelan."
   ]
  },
  {
   "cell_type": "code",
   "execution_count": 23,
   "metadata": {
    "colab": {
     "base_uri": "https://localhost:8080/"
    },
    "id": "ZyYd4qy6myWX",
    "outputId": "16b0ee3b-7644-44ca-d133-4514516f22d9",
    "vscode": {
     "languageId": "r"
    }
   },
   "outputs": [
    {
     "name": "stderr",
     "output_type": "stream",
     "text": [
      "Loading required package: nnet\n",
      "\n"
     ]
    }
   ],
   "source": [
    "train2 = train\n",
    "\n",
    "# Setting the reference\n",
    "train2$REKOMENDASI_TINDAK_LANJUT = relevel(train$REKOMENDASI_TINDAK_LANJUT, ref = \"Angsuran Biasa\")\n",
    "\n",
    "# Training model\n",
    "require(nnet)"
   ]
  },
  {
   "cell_type": "code",
   "execution_count": 24,
   "metadata": {
    "colab": {
     "base_uri": "https://localhost:8080/"
    },
    "id": "Q3jagQv0pI6Q",
    "outputId": "87b9282f-b421-40df-ba3f-f8acdb15d095",
    "vscode": {
     "languageId": "r"
    }
   },
   "outputs": [
    {
     "name": "stdout",
     "output_type": "stream",
     "text": [
      "# weights:  64 (45 variable)\n",
      "initial  value 605.810636 \n",
      "iter  10 value 297.757924\n",
      "iter  20 value 264.894804\n",
      "iter  30 value 263.870970\n",
      "iter  40 value 263.799881\n",
      "final  value 263.799477 \n",
      "converged\n"
     ]
    }
   ],
   "source": [
    "# Training the multinomial model\n",
    "multinom_model = multinom(REKOMENDASI_TINDAK_LANJUT ~ ., data=train2)"
   ]
  },
  {
   "cell_type": "code",
   "execution_count": 25,
   "metadata": {
    "colab": {
     "base_uri": "https://localhost:8080/",
     "height": 1000
    },
    "id": "cOWrs3QGpg-g",
    "outputId": "02ff35b0-e236-458d-f901-5dda351512b1",
    "vscode": {
     "languageId": "r"
    }
   },
   "outputs": [
    {
     "name": "stderr",
     "output_type": "stream",
     "text": [
      "Warning message in sqrt(diag(vc)):\n",
      "“NaNs produced”\n"
     ]
    },
    {
     "data": {
      "text/plain": [
       "Call:\n",
       "multinom(formula = REKOMENDASI_TINDAK_LANJUT ~ ., data = train2)\n",
       "\n",
       "Coefficients:\n",
       "                 (Intercept) KARAKTERTIDAK KOOPERATIF KONDISI_USAHA\n",
       "Diskon Pelunasan   11.244759                -14.62624    -13.852918\n",
       "Penarikan         -57.307161                 48.65765      1.623541\n",
       "Restrukturisasi    -3.537153                -56.28708      1.068860\n",
       "                 KONDISI_JAMINANHilang KONDISI_JAMINANPindah Tangan\n",
       "Diskon Pelunasan             -1.526697                    0.6409944\n",
       "Penarikan                   175.539677                   -0.9872966\n",
       "Restrukturisasi             -27.468739                  -48.5727355\n",
       "                 KONDISI_JAMINANRusak     STATUS KEWAJIBAN(5,15]\n",
       "Diskon Pelunasan             1.360318 0.04943448               0\n",
       "Penarikan                   10.588672 0.45204514               0\n",
       "Restrukturisasi             -1.143673 0.26073683               0\n",
       "                 KEWAJIBAN(15,30]  OSL(5,15] OSL(15,30] KOLEKTIBILITASDIRAGUKAN\n",
       "Diskon Pelunasan        -2.170965  3.5123626          0               2.1792674\n",
       "Penarikan                5.229486 11.4382856          0              51.1105568\n",
       "Restrukturisasi         32.741337  0.2801508          0               0.3589651\n",
       "                 KOLEKTIBILITASKURANG LANCAR KOLEKTIBILITASLANCAR\n",
       "Diskon Pelunasan                 -15.3452007           0.04231237\n",
       "Penarikan                         48.2276143         -13.59573510\n",
       "Restrukturisasi                    0.2282938           0.28915776\n",
       "                 KOLEKTIBILITASMACET\n",
       "Diskon Pelunasan           0.8004984\n",
       "Penarikan                 29.4856261\n",
       "Restrukturisasi          -42.5278736\n",
       "\n",
       "Std. Errors:\n",
       "                 (Intercept) KARAKTERTIDAK KOOPERATIF KONDISI_USAHA\n",
       "Diskon Pelunasan   0.5895200             2.762700e-08     0.5895225\n",
       "Penarikan          2.4908851             1.253091e+00     0.9338879\n",
       "Restrukturisasi    0.4927166             1.983197e-24     0.1478515\n",
       "                 KONDISI_JAMINANHilang KONDISI_JAMINANPindah Tangan\n",
       "Diskon Pelunasan                   NaN                 2.005035e-12\n",
       "Penarikan                 4.815124e-57                 1.849126e+00\n",
       "Restrukturisasi           1.913204e-65                 7.626743e-21\n",
       "                 KONDISI_JAMINANRusak     STATUS KEWAJIBAN(5,15]\n",
       "Diskon Pelunasan                  NaN 0.20452751             NaN\n",
       "Penarikan                8.143066e-18 0.30009668               0\n",
       "Restrukturisasi          1.457280e-60 0.05600754               0\n",
       "                 KEWAJIBAN(15,30]    OSL(5,15]   OSL(15,30]\n",
       "Diskon Pelunasan     7.565950e-16 1.459643e+00 9.434972e-16\n",
       "Penarikan            1.953113e-28 1.445723e-16 0.000000e+00\n",
       "Restrukturisasi      8.107070e-15 1.283024e+00 0.000000e+00\n",
       "                 KOLEKTIBILITASDIRAGUKAN KOLEKTIBILITASKURANG LANCAR\n",
       "Diskon Pelunasan                1.396502                1.204666e-07\n",
       "Penarikan                       1.148255                9.914857e-01\n",
       "Restrukturisasi                 1.064189                3.089658e-01\n",
       "                 KOLEKTIBILITASLANCAR KOLEKTIBILITASMACET\n",
       "Diskon Pelunasan         9.855036e-01        3.085910e-13\n",
       "Penarikan                5.662788e-07        1.103508e-09\n",
       "Restrukturisasi          2.896531e-01        2.005951e-20\n",
       "\n",
       "Residual Deviance: 527.599 \n",
       "AIC: 605.599 "
      ]
     },
     "metadata": {},
     "output_type": "display_data"
    }
   ],
   "source": [
    "# checking model\n",
    "summary(multinom_model)"
   ]
  },
  {
   "cell_type": "code",
   "execution_count": 26,
   "metadata": {
    "colab": {
     "base_uri": "https://localhost:8080/",
     "height": 216
    },
    "id": "hy4fhoe4plvz",
    "outputId": "33bc9be7-fed0-4859-8475-caf598c57995",
    "vscode": {
     "languageId": "r"
    }
   },
   "outputs": [
    {
     "data": {
      "text/html": [
       "<table class=\"dataframe\">\n",
       "<caption>A matrix: 3 × 15 of type dbl</caption>\n",
       "<thead>\n",
       "\t<tr><th></th><th scope=col>(Intercept)</th><th scope=col>KARAKTERTIDAK KOOPERATIF</th><th scope=col>KONDISI_USAHA</th><th scope=col>KONDISI_JAMINANHilang</th><th scope=col>KONDISI_JAMINANPindah Tangan</th><th scope=col>KONDISI_JAMINANRusak</th><th scope=col>STATUS</th><th scope=col>KEWAJIBAN(5,15]</th><th scope=col>KEWAJIBAN(15,30]</th><th scope=col>OSL(5,15]</th><th scope=col>OSL(15,30]</th><th scope=col>KOLEKTIBILITASDIRAGUKAN</th><th scope=col>KOLEKTIBILITASKURANG LANCAR</th><th scope=col>KOLEKTIBILITASLANCAR</th><th scope=col>KOLEKTIBILITASMACET</th></tr>\n",
       "</thead>\n",
       "<tbody>\n",
       "\t<tr><th scope=row>Diskon Pelunasan</th><td>7.647808e+04</td><td>4.445317e-07</td><td>9.632836e-07</td><td>2.172521e-01</td><td>1.898368e+00</td><td>3.897433e+00</td><td>1.050677</td><td>1</td><td>1.140674e-01</td><td>   33.527387</td><td>1</td><td>8.839828e+00</td><td>2.166028e-07</td><td>1.043220e+00</td><td>2.226650e+00</td></tr>\n",
       "\t<tr><th scope=row>Penarikan</th><td>1.293649e-25</td><td>1.354404e+21</td><td>5.071016e+00</td><td>1.721523e+76</td><td>3.725826e-01</td><td>3.968275e+04</td><td>1.571523</td><td>1</td><td>1.866968e+02</td><td>92807.767215</td><td>1</td><td>1.574102e+22</td><td>8.810220e+20</td><td>1.245797e-06</td><td>6.389174e+12</td></tr>\n",
       "\t<tr><th scope=row>Restrukturisasi</th><td>2.909605e-02</td><td>3.587822e-25</td><td>2.912057e+00</td><td>1.176192e-12</td><td>8.037648e-22</td><td>3.186465e-01</td><td>1.297886</td><td>1</td><td>1.657226e+14</td><td>    1.323329</td><td>1</td><td>1.431847e+00</td><td>1.256454e+00</td><td>1.335302e+00</td><td>3.391401e-19</td></tr>\n",
       "</tbody>\n",
       "</table>\n"
      ],
      "text/latex": [
       "A matrix: 3 × 15 of type dbl\n",
       "\\begin{tabular}{r|lllllllllllllll}\n",
       "  & (Intercept) & KARAKTERTIDAK KOOPERATIF & KONDISI\\_USAHA & KONDISI\\_JAMINANHilang & KONDISI\\_JAMINANPindah Tangan & KONDISI\\_JAMINANRusak & STATUS & KEWAJIBAN(5,15{]} & KEWAJIBAN(15,30{]} & OSL(5,15{]} & OSL(15,30{]} & KOLEKTIBILITASDIRAGUKAN & KOLEKTIBILITASKURANG LANCAR & KOLEKTIBILITASLANCAR & KOLEKTIBILITASMACET\\\\\n",
       "\\hline\n",
       "\tDiskon Pelunasan & 7.647808e+04 & 4.445317e-07 & 9.632836e-07 & 2.172521e-01 & 1.898368e+00 & 3.897433e+00 & 1.050677 & 1 & 1.140674e-01 &    33.527387 & 1 & 8.839828e+00 & 2.166028e-07 & 1.043220e+00 & 2.226650e+00\\\\\n",
       "\tPenarikan & 1.293649e-25 & 1.354404e+21 & 5.071016e+00 & 1.721523e+76 & 3.725826e-01 & 3.968275e+04 & 1.571523 & 1 & 1.866968e+02 & 92807.767215 & 1 & 1.574102e+22 & 8.810220e+20 & 1.245797e-06 & 6.389174e+12\\\\\n",
       "\tRestrukturisasi & 2.909605e-02 & 3.587822e-25 & 2.912057e+00 & 1.176192e-12 & 8.037648e-22 & 3.186465e-01 & 1.297886 & 1 & 1.657226e+14 &     1.323329 & 1 & 1.431847e+00 & 1.256454e+00 & 1.335302e+00 & 3.391401e-19\\\\\n",
       "\\end{tabular}\n"
      ],
      "text/markdown": [
       "\n",
       "A matrix: 3 × 15 of type dbl\n",
       "\n",
       "| <!--/--> | (Intercept) | KARAKTERTIDAK KOOPERATIF | KONDISI_USAHA | KONDISI_JAMINANHilang | KONDISI_JAMINANPindah Tangan | KONDISI_JAMINANRusak | STATUS | KEWAJIBAN(5,15] | KEWAJIBAN(15,30] | OSL(5,15] | OSL(15,30] | KOLEKTIBILITASDIRAGUKAN | KOLEKTIBILITASKURANG LANCAR | KOLEKTIBILITASLANCAR | KOLEKTIBILITASMACET |\n",
       "|---|---|---|---|---|---|---|---|---|---|---|---|---|---|---|---|\n",
       "| Diskon Pelunasan | 7.647808e+04 | 4.445317e-07 | 9.632836e-07 | 2.172521e-01 | 1.898368e+00 | 3.897433e+00 | 1.050677 | 1 | 1.140674e-01 |    33.527387 | 1 | 8.839828e+00 | 2.166028e-07 | 1.043220e+00 | 2.226650e+00 |\n",
       "| Penarikan | 1.293649e-25 | 1.354404e+21 | 5.071016e+00 | 1.721523e+76 | 3.725826e-01 | 3.968275e+04 | 1.571523 | 1 | 1.866968e+02 | 92807.767215 | 1 | 1.574102e+22 | 8.810220e+20 | 1.245797e-06 | 6.389174e+12 |\n",
       "| Restrukturisasi | 2.909605e-02 | 3.587822e-25 | 2.912057e+00 | 1.176192e-12 | 8.037648e-22 | 3.186465e-01 | 1.297886 | 1 | 1.657226e+14 |     1.323329 | 1 | 1.431847e+00 | 1.256454e+00 | 1.335302e+00 | 3.391401e-19 |\n",
       "\n"
      ],
      "text/plain": [
       "                 (Intercept)  KARAKTERTIDAK KOOPERATIF KONDISI_USAHA\n",
       "Diskon Pelunasan 7.647808e+04 4.445317e-07             9.632836e-07 \n",
       "Penarikan        1.293649e-25 1.354404e+21             5.071016e+00 \n",
       "Restrukturisasi  2.909605e-02 3.587822e-25             2.912057e+00 \n",
       "                 KONDISI_JAMINANHilang KONDISI_JAMINANPindah Tangan\n",
       "Diskon Pelunasan 2.172521e-01          1.898368e+00                \n",
       "Penarikan        1.721523e+76          3.725826e-01                \n",
       "Restrukturisasi  1.176192e-12          8.037648e-22                \n",
       "                 KONDISI_JAMINANRusak STATUS   KEWAJIBAN(5,15] KEWAJIBAN(15,30]\n",
       "Diskon Pelunasan 3.897433e+00         1.050677 1               1.140674e-01    \n",
       "Penarikan        3.968275e+04         1.571523 1               1.866968e+02    \n",
       "Restrukturisasi  3.186465e-01         1.297886 1               1.657226e+14    \n",
       "                 OSL(5,15]    OSL(15,30] KOLEKTIBILITASDIRAGUKAN\n",
       "Diskon Pelunasan    33.527387 1          8.839828e+00           \n",
       "Penarikan        92807.767215 1          1.574102e+22           \n",
       "Restrukturisasi      1.323329 1          1.431847e+00           \n",
       "                 KOLEKTIBILITASKURANG LANCAR KOLEKTIBILITASLANCAR\n",
       "Diskon Pelunasan 2.166028e-07                1.043220e+00        \n",
       "Penarikan        8.810220e+20                1.245797e-06        \n",
       "Restrukturisasi  1.256454e+00                1.335302e+00        \n",
       "                 KOLEKTIBILITASMACET\n",
       "Diskon Pelunasan 2.226650e+00       \n",
       "Penarikan        6.389174e+12       \n",
       "Restrukturisasi  3.391401e-19       "
      ]
     },
     "metadata": {},
     "output_type": "display_data"
    }
   ],
   "source": [
    "# converting the coefficients to odds by taking the exponential of the coefficients\n",
    "exp(coef(multinom_model))"
   ]
  },
  {
   "cell_type": "code",
   "execution_count": 27,
   "metadata": {
    "colab": {
     "base_uri": "https://localhost:8080/",
     "height": 255
    },
    "id": "47QhqQLXpqP6",
    "outputId": "b8078049-65c2-4d50-ae62-3bcc42b83dd7",
    "vscode": {
     "languageId": "r"
    }
   },
   "outputs": [
    {
     "data": {
      "text/html": [
       "<table class=\"dataframe\">\n",
       "<caption>A matrix: 6 × 4 of type dbl</caption>\n",
       "<thead>\n",
       "\t<tr><th></th><th scope=col>Angsuran Biasa</th><th scope=col>Diskon Pelunasan</th><th scope=col>Penarikan</th><th scope=col>Restrukturisasi</th></tr>\n",
       "</thead>\n",
       "<tbody>\n",
       "\t<tr><th scope=row>1</th><td>0.71</td><td>0.00</td><td>0</td><td>0.29</td></tr>\n",
       "\t<tr><th scope=row>5</th><td>0.00</td><td>0.00</td><td>1</td><td>0.00</td></tr>\n",
       "\t<tr><th scope=row>6</th><td>0.61</td><td>0.06</td><td>0</td><td>0.32</td></tr>\n",
       "\t<tr><th scope=row>7</th><td>0.18</td><td>0.00</td><td>0</td><td>0.82</td></tr>\n",
       "\t<tr><th scope=row>9</th><td>0.33</td><td>0.00</td><td>0</td><td>0.67</td></tr>\n",
       "\t<tr><th scope=row>11</th><td>0.18</td><td>0.00</td><td>0</td><td>0.82</td></tr>\n",
       "</tbody>\n",
       "</table>\n"
      ],
      "text/latex": [
       "A matrix: 6 × 4 of type dbl\n",
       "\\begin{tabular}{r|llll}\n",
       "  & Angsuran Biasa & Diskon Pelunasan & Penarikan & Restrukturisasi\\\\\n",
       "\\hline\n",
       "\t1 & 0.71 & 0.00 & 0 & 0.29\\\\\n",
       "\t5 & 0.00 & 0.00 & 1 & 0.00\\\\\n",
       "\t6 & 0.61 & 0.06 & 0 & 0.32\\\\\n",
       "\t7 & 0.18 & 0.00 & 0 & 0.82\\\\\n",
       "\t9 & 0.33 & 0.00 & 0 & 0.67\\\\\n",
       "\t11 & 0.18 & 0.00 & 0 & 0.82\\\\\n",
       "\\end{tabular}\n"
      ],
      "text/markdown": [
       "\n",
       "A matrix: 6 × 4 of type dbl\n",
       "\n",
       "| <!--/--> | Angsuran Biasa | Diskon Pelunasan | Penarikan | Restrukturisasi |\n",
       "|---|---|---|---|---|\n",
       "| 1 | 0.71 | 0.00 | 0 | 0.29 |\n",
       "| 5 | 0.00 | 0.00 | 1 | 0.00 |\n",
       "| 6 | 0.61 | 0.06 | 0 | 0.32 |\n",
       "| 7 | 0.18 | 0.00 | 0 | 0.82 |\n",
       "| 9 | 0.33 | 0.00 | 0 | 0.67 |\n",
       "| 11 | 0.18 | 0.00 | 0 | 0.82 |\n",
       "\n"
      ],
      "text/plain": [
       "   Angsuran Biasa Diskon Pelunasan Penarikan Restrukturisasi\n",
       "1  0.71           0.00             0         0.29           \n",
       "5  0.00           0.00             1         0.00           \n",
       "6  0.61           0.06             0         0.32           \n",
       "7  0.18           0.00             0         0.82           \n",
       "9  0.33           0.00             0         0.67           \n",
       "11 0.18           0.00             0         0.82           "
      ]
     },
     "metadata": {},
     "output_type": "display_data"
    }
   ],
   "source": [
    "head(round(fitted(multinom_model), 2))"
   ]
  },
  {
   "cell_type": "code",
   "execution_count": 28,
   "metadata": {
    "colab": {
     "base_uri": "https://localhost:8080/"
    },
    "id": "Ukq7wZhCpvUs",
    "outputId": "e99ba64b-cca7-4760-f867-805897b09360",
    "vscode": {
     "languageId": "r"
    }
   },
   "outputs": [
    {
     "name": "stderr",
     "output_type": "stream",
     "text": [
      "Warning message in df$max = apply(df, 1, max):\n",
      "“Coercing LHS to a list”\n"
     ]
    }
   ],
   "source": [
    "# predicting the values for train dataset\n",
    "train2$ClassPredicted = predict(multinom_model, newdata = train2, \"class\")\n",
    "train_prob = predict(multinom_model, newdata = train2, \"probs\")\n",
    "df = train_prob\n",
    "df$max = apply(df,1,max)"
   ]
  },
  {
   "cell_type": "code",
   "execution_count": 29,
   "metadata": {
    "colab": {
     "base_uri": "https://localhost:8080/"
    },
    "id": "E8wJSKqKpzb6",
    "outputId": "eef88bc1-f331-4da0-9e29-4754f0a2fcf3",
    "vscode": {
     "languageId": "r"
    }
   },
   "outputs": [
    {
     "name": "stderr",
     "output_type": "stream",
     "text": [
      "Warning message in df2$max = apply(df2, 1, max):\n",
      "“Coercing LHS to a list”\n"
     ]
    }
   ],
   "source": [
    "train2$score = df$max\n",
    "test_prob = predict(multinom_model, newdata = test, \"probs\")\n",
    "df2 = test_prob\n",
    "df2$max = apply(df2,1,max)"
   ]
  },
  {
   "cell_type": "markdown",
   "metadata": {
    "id": "qSY7s6NwyW_h"
   },
   "source": [
    "Untuk keperluan tertentu, kita perlu mengetahui peluang dari tiap baris data (perwakilan dari pelanggan) untuk masuk pada kelas target tertentu.\n",
    "\n",
    "Tujuannya ialah untuk melihat seberapa pengaruh model untuk melakukan klasifikasi. Selain itu bisa juga dari sudut pandang bisnis, dalam kasus ***real*** penentuan ***threshold*** pada nilai peluang juga dikaitkan dengan beberapa faktor, misalnya ***revenue*** pelanggan."
   ]
  },
  {
   "cell_type": "markdown",
   "metadata": {
    "id": "amZGSWPDyeGG"
   },
   "source": [
    "Cobalah lihat nilai peluang bahwa suatu pelanggan masuk pada kelas target tertentu !"
   ]
  },
  {
   "cell_type": "code",
   "execution_count": 30,
   "metadata": {
    "colab": {
     "base_uri": "https://localhost:8080/",
     "height": 34
    },
    "id": "-fVB97g6p1DV",
    "outputId": "2ade23e8-9dd0-456c-d8d6-4e8f44625c13",
    "vscode": {
     "languageId": "r"
    }
   },
   "outputs": [
    {
     "data": {
      "text/html": [
       "68.6499"
      ],
      "text/latex": [
       "68.6499"
      ],
      "text/markdown": [
       "68.6499"
      ],
      "text/plain": [
       "[1] 68.6499"
      ]
     },
     "metadata": {},
     "output_type": "display_data"
    }
   ],
   "source": [
    "# Building classification table\n",
    "tab_train = table(train2$REKOMENDASI_TINDAK_LANJUT, train2$ClassPredicted)\n",
    "round((sum(diag(tab_train))/sum(tab_train))*100,4)"
   ]
  },
  {
   "cell_type": "code",
   "execution_count": 31,
   "metadata": {
    "colab": {
     "base_uri": "https://localhost:8080/",
     "height": 34
    },
    "id": "WsbArHcep3wK",
    "outputId": "5ccabf57-ed86-4726-ead0-27bb52595aae",
    "vscode": {
     "languageId": "r"
    }
   },
   "outputs": [
    {
     "data": {
      "text/html": [
       "70"
      ],
      "text/latex": [
       "70"
      ],
      "text/markdown": [
       "70"
      ],
      "text/plain": [
       "[1] 70"
      ]
     },
     "metadata": {},
     "output_type": "display_data"
    }
   ],
   "source": [
    "test$ClassPredicted = predict(multinom_model, newdata = test, \"class\")\n",
    "test$score = df2$max\n",
    "tab_test = table(test$REKOMENDASI_TINDAK_LANJUT, test$ClassPredicted)\n",
    "round((sum(diag(tab_test))/sum(tab_test))*100,4)"
   ]
  }
 ],
 "metadata": {
  "accelerator": "GPU",
  "colab": {
   "gpuType": "T4",
   "provenance": []
  },
  "kernelspec": {
   "display_name": "R",
   "language": "R",
   "name": "ir"
  },
  "language_info": {
   "codemirror_mode": "r",
   "file_extension": ".r",
   "mimetype": "text/x-r-source",
   "name": "R",
   "pygments_lexer": "r",
   "version": "3.6.3"
  }
 },
 "nbformat": 4,
 "nbformat_minor": 1
}
